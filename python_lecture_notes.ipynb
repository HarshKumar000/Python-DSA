{
  "cells": [
    {
      "cell_type": "markdown",
      "metadata": {
        "id": "xi0EBHfVmeDt"
      },
      "source": [
        "# Types of Errors"
      ]
    },
    {
      "cell_type": "markdown",
      "metadata": {
        "id": "vpC0lm8oC3I-"
      },
      "source": [
        "- **Syntax error** - Grammatical error\n",
        "- **Indentation error** - Spacing error\n",
        "- **Type Error** - mistakenly typed something and missing return statement in function\n",
        "  - *Example:* typed string instead for integers\n",
        "- **Value Error** - trying to convert the values which is not possible\n",
        "- **Key Error** - In a Dictionary, we are trying to get the value for the key which is not defined\n",
        "- **Attribute Error** - we are calling invalid attribute of function for the class\n",
        "  - *Example:* set.append() class set does not have function append\n",
        "- **Name Error** - variable is not defined\n",
        "- **Index Error** - index which given is not possible\n",
        "- **ZeroDivisionError** - division of zero is not allowed\n",
        "- **FileNotFoundError** - file is not present\n",
        "- **End of line *(EOL)* Error** - mising parenthesis or semicolon in end of line"
      ]
    },
    {
      "cell_type": "code",
      "execution_count": null,
      "metadata": {
        "id": "7BJAvg7EGOY9",
        "colab": {
          "base_uri": "https://localhost:8080/"
        },
        "outputId": "0b6e7966-b541-4065-960d-a06dcff86559"
      },
      "outputs": [
        {
          "output_type": "stream",
          "name": "stdout",
          "text": [
            "['__add__', '__class__', '__class_getitem__', '__contains__', '__delattr__', '__delitem__', '__dir__', '__doc__', '__eq__', '__format__', '__ge__', '__getattribute__', '__getitem__', '__gt__', '__hash__', '__iadd__', '__imul__', '__init__', '__init_subclass__', '__iter__', '__le__', '__len__', '__lt__', '__mul__', '__ne__', '__new__', '__reduce__', '__reduce_ex__', '__repr__', '__reversed__', '__rmul__', '__setattr__', '__setitem__', '__sizeof__', '__str__', '__subclasshook__', 'append', 'clear', 'copy', 'count', 'extend', 'index', 'insert', 'pop', 'remove', 'reverse', 'sort']\n",
            "Help on method_descriptor:\n",
            "\n",
            "pop(self, index=-1, /)\n",
            "    Remove and return item at index (default last).\n",
            "    \n",
            "    Raises IndexError if list is empty or index is out of range.\n",
            "\n"
          ]
        }
      ],
      "source": [
        "# This method also works for libraries like numpy,pandas,matplotlib,...\n",
        "from pprint import pprint\n",
        "# pprint - pretty print\n",
        "# pprint(dir(str))\n",
        "# help(str.isupper)\n",
        "\n",
        "print(dir(list))\n",
        "help(list.pop)\n",
        "# L=[1,2,3]\n",
        "# L.extend([4,5,6])\n",
        "# pprint(L)"
      ]
    },
    {
      "cell_type": "markdown",
      "metadata": {
        "id": "Td5I5klOonW3"
      },
      "source": [
        "# WEEK-1"
      ]
    },
    {
      "cell_type": "markdown",
      "metadata": {
        "id": "ImLz4ZAHo5IG"
      },
      "source": [
        "Print statement"
      ]
    },
    {
      "cell_type": "code",
      "execution_count": null,
      "metadata": {
        "id": "35U8ZRo_ojAi"
      },
      "outputs": [],
      "source": [
        "print('Hello India','Hello world')   # , separates space between two words\n",
        "# print statement can be used for any type of variables\n",
        "# print statement works with both ('') or (\"\")\n",
        "print(10,20,'Hello India')"
      ]
    },
    {
      "cell_type": "markdown",
      "metadata": {
        "id": "Qhhm-xoWsNfW"
      },
      "source": [
        "Introduction to Variables"
      ]
    },
    {
      "cell_type": "code",
      "execution_count": null,
      "metadata": {
        "id": "QMQz07oWpQnN"
      },
      "outputs": [],
      "source": [
        "a=10 # assigning variables\n",
        "print(a)\n",
        "a=a+1 # increase the value by 1\n",
        "print(a)"
      ]
    },
    {
      "cell_type": "markdown",
      "metadata": {
        "id": "TiVTXbt3sfOA"
      },
      "source": [
        "Variables and Input Statements"
      ]
    },
    {
      "cell_type": "code",
      "execution_count": null,
      "metadata": {
        "id": "HR-LxlxHqIrK"
      },
      "outputs": [],
      "source": [
        "print('Enter a number:')\n",
        "n=int(input()) # int(input()) accept the integer values\n",
        "print(n)"
      ]
    },
    {
      "cell_type": "code",
      "execution_count": null,
      "metadata": {
        "id": "sIeroWFRqq7k"
      },
      "outputs": [],
      "source": [
        "n=str(input()) # str(input()) accepts the string values\n",
        "# generally input() stores the value in string\n",
        "age=int(input())\n",
        "print(\"Hello\",n,\"Good to know that you are only\",age)"
      ]
    },
    {
      "cell_type": "markdown",
      "metadata": {
        "id": "8TK9Dswps4f6"
      },
      "source": [
        "Variables and Literals"
      ]
    },
    {
      "cell_type": "code",
      "execution_count": null,
      "metadata": {
        "id": "nyUv-qhytDXU"
      },
      "outputs": [],
      "source": [
        "n=str(input(\"Enter your name : \")) # Both '' \" \" used to type strings\n",
        "p=str(input(\"Type your location : \"))\n",
        "age=int(input('What is your age? '))\n",
        "print(\"Hello\",n,\"How is the weather in\",p,'?',\"Good to know that your age is only\",age)"
      ]
    },
    {
      "cell_type": "code",
      "execution_count": null,
      "metadata": {
        "id": "QahXSI5hwCzJ"
      },
      "outputs": [],
      "source": [
        "name='abc' # name is variable and 'abc' is literal\n",
        "name='xyz'\n",
        "print(name) # prints the lastly assigned value\n",
        "age=20\n",
        "age=30\n",
        "age=age+5 # variable can be written in both side but Literal is written only in right side\n",
        "print(age)"
      ]
    },
    {
      "cell_type": "code",
      "execution_count": null,
      "metadata": {
        "id": "zMmmk4s0xH00"
      },
      "outputs": [],
      "source": [
        "# Area of the circle\n",
        "r=int(input('Enter a radius of the circle:'))\n",
        "area=3.14*r*r\n",
        "print('Area of the circle is',area)"
      ]
    },
    {
      "cell_type": "markdown",
      "metadata": {
        "id": "KkrlTInqxxH8"
      },
      "source": [
        "Data types"
      ]
    },
    {
      "cell_type": "code",
      "execution_count": null,
      "metadata": {
        "id": "b3KEpad-x3BL"
      },
      "outputs": [],
      "source": [
        "n=10\n",
        "r=3.14\n",
        "s='abc'\n",
        "print(type(n)) # type() identifies the data type of value like integer,string,boolean,float,list,dictionary\n",
        "print(\"n is type of:\",type(r))\n",
        "print(\"s is type of:\",type(s))"
      ]
    },
    {
      "cell_type": "code",
      "execution_count": null,
      "metadata": {
        "id": "HBVyI8Wr0KDl"
      },
      "outputs": [],
      "source": [
        "l=[10,20,30,\"Hi\"]\n",
        "print(l[0])  # In a List position numbering start from 0 in ascending\n",
        "print(l[1])\n",
        "print(l[-1]) # In a List position numbering start from -1 in descending\n",
        "print(type(l))\n",
        "print(type(l[2])) # prints the type datatype of l[2]\n",
        "print(type(l[-1]))\n",
        "\n",
        "a=True\n",
        "b=False\n",
        "print(type(a))\n"
      ]
    },
    {
      "cell_type": "code",
      "execution_count": null,
      "metadata": {
        "id": "J5MCNFEwB726",
        "colab": {
          "base_uri": "https://localhost:8080/"
        },
        "outputId": "710388b3-c1d5-465a-f857-baa65485e8b5"
      },
      "outputs": [
        {
          "output_type": "stream",
          "name": "stdout",
          "text": [
            "5 <class 'int'>\n",
            "10.52 <class 'float'>\n",
            "10 <class 'str'>\n"
          ]
        }
      ],
      "source": [
        "a=int(5.5) # convert the value into integer\n",
        "b=float('10.52')\n",
        "c=str(10)\n",
        "print(a,type(a)) # type() prints the datatype after converting\n",
        "print(b,type(b))\n",
        "print(c,type(c))"
      ]
    },
    {
      "cell_type": "markdown",
      "metadata": {
        "id": "U8mBdiKGGwul"
      },
      "source": [
        "Conversion of Data types"
      ]
    },
    {
      "cell_type": "code",
      "execution_count": null,
      "metadata": {
        "id": "8qCAQvDSEQFh",
        "colab": {
          "base_uri": "https://localhost:8080/"
        },
        "outputId": "fd5da511-53e5-4520-bb96-822216a29c2a"
      },
      "outputs": [
        {
          "output_type": "stream",
          "name": "stdout",
          "text": [
            "True <class 'bool'>\n",
            "False <class 'bool'>\n",
            "True <class 'bool'>\n",
            "True <class 'bool'>\n",
            "False <class 'bool'>\n",
            "True <class 'bool'>\n",
            "True <class 'bool'>\n",
            "False <class 'bool'>\n"
          ]
        }
      ],
      "source": [
        "a=bool(10.4)      # bool gives True for non-zero integer and float\n",
        "b=bool(0.0)       # bool gives False for only zero integer and float\n",
        "c=bool('0')       # bool gives True for non empty strings\n",
        "d=bool('10')\n",
        "e=bool('')        # bool gives False for empty string\n",
        "f=bool('India')\n",
        "g=bool([1,2,3])   # bool gives True for non empty List\n",
        "h=bool([])        # bool gives False for empty List\n",
        "print(a,type(a))\n",
        "print(b,type(b))\n",
        "print(c,type(c))\n",
        "print(d,type(d))\n",
        "print(e,type(e))\n",
        "print(f,type(f))\n",
        "print(g,type(g))\n",
        "print(h,type(h))"
      ]
    },
    {
      "cell_type": "markdown",
      "metadata": {
        "id": "Ci6xpWu2G49e"
      },
      "source": [
        "Operations and Expressions"
      ]
    },
    {
      "cell_type": "code",
      "execution_count": null,
      "metadata": {
        "id": "ikH-4t-4HAMm"
      },
      "outputs": [],
      "source": [
        "a=\"Hello\"\n",
        "b=\"India\"\n",
        "n=a+b  # + add the two strings but -,*,/ not work on strings\n",
        "print(n)\n",
        "\n",
        "c=[1,2,3]\n",
        "d=[4,5,6]\n",
        "z=c+d  # + add the two list but -,*,/ not work on list\n",
        "print(z)\n",
        "\n",
        "x=10+12*2 # Operator precedence works\n",
        "# operator precedence works based on BODMAS method\n",
        "print(x)"
      ]
    },
    {
      "cell_type": "code",
      "execution_count": null,
      "metadata": {
        "id": "BvH-_OeIPNB9"
      },
      "outputs": [],
      "source": [
        "# Arithmetic Operators (+,-,*,/,//,%,**)\n",
        "\n",
        "print('Addition',2+3)\n",
        "print('Subtraction',5-3)\n",
        "print('Multiplication',5*4)\n",
        "print('Division',7/3)\n",
        "print('Floor Division',7//3) # Floor Division gives Quotient\n",
        "print('Modulus',7%3) # Modulus gives remainder\n",
        "print('Exponentiation',6**2)"
      ]
    },
    {
      "cell_type": "code",
      "execution_count": null,
      "metadata": {
        "id": "5KBhHhBjSYdz"
      },
      "outputs": [],
      "source": [
        "# Relational Operators (>,<,>=,<=,==,!=)\n",
        "# For Relational Operators output is always Boolean data type\n",
        "\n",
        "print(5>5)\n",
        "print(7!=5)\n",
        "print(5==5)\n",
        "print(5>=10)"
      ]
    },
    {
      "cell_type": "code",
      "execution_count": null,
      "metadata": {
        "id": "X1fay03dTbe-"
      },
      "outputs": [],
      "source": [
        "# Logical Operators (and,or,not)\n",
        "# These Operators similar to logic gate in physics\n",
        "# Always gives the output Boolean Datatype\n",
        "\n",
        "print(not True) # not can be used in either () or without ()\n",
        "print(not(False))"
      ]
    },
    {
      "cell_type": "markdown",
      "metadata": {
        "id": "I1tLaDHAVK0Z"
      },
      "source": [
        "Introduction to Strings"
      ]
    },
    {
      "cell_type": "code",
      "execution_count": null,
      "metadata": {
        "id": "lGmCp2yeVQ8z"
      },
      "outputs": [],
      "source": [
        "#slicing the strings\n",
        "s='coffee'\n",
        "t='bread'\n",
        "print(s[1:5]) # start from 1 to 4(5-1)\n",
        "\n",
        "u='0123456789'\n",
        "a=int(u[4]) # convert string into integer\n",
        "b=int(u[7])\n",
        "print(a+b)"
      ]
    },
    {
      "cell_type": "code",
      "execution_count": null,
      "metadata": {
        "id": "EzUe_OMLXuQF"
      },
      "outputs": [],
      "source": [
        "s='good'\n",
        "print(s[3]*3)\n",
        "print('apple'>'one') # compares by character in alphabet order\n",
        "print('four'>'eight')\n",
        "print('abcx'<'abcz')"
      ]
    },
    {
      "cell_type": "code",
      "execution_count": null,
      "metadata": {
        "id": "7tSs-k6iaSNt"
      },
      "outputs": [],
      "source": [
        "# Indexing Strings\n",
        "s='python'\n",
        "# indexing start from 0 to n-1 in ascending\n",
        "# indexing start from -1 to -n in descending\n",
        "print(s[-1])\n",
        "print(s[5])\n",
        "print(s[:6])\n",
        "print(len(s)) # len gives the no of characters"
      ]
    },
    {
      "cell_type": "markdown",
      "metadata": {
        "id": "HW179Q2mdCIg"
      },
      "source": [
        "# WEEK-2"
      ]
    },
    {
      "cell_type": "markdown",
      "metadata": {
        "id": "dlie_nWxxRT-"
      },
      "source": [
        "Variables in Programmer perspective"
      ]
    },
    {
      "cell_type": "code",
      "execution_count": null,
      "metadata": {
        "id": "tmqMpvHydK55"
      },
      "outputs": [],
      "source": [
        "ram_bank_balance=100000    # Make a explanatory variable\n",
        "ram_loan=500000\n",
        "\n",
        "lakshman_bank_balance=2000000\n",
        "lakshman_loan=1000000\n",
        "\n",
        "net_income=ram_bank_balance+lakshman_bank_balance\n",
        "# net_income is total income of two brothers\n",
        "net_liability=ram_loan+lakshman_loan\n",
        "# net_liability is the total loan of the brothers\n",
        "\n",
        "final_value=net_income-net_liability\n",
        "# final_value is the family's final money(could be +ve or -ve)\n",
        "print('the family has',final_value)"
      ]
    },
    {
      "cell_type": "markdown",
      "metadata": {
        "id": "EdbZzlyO1C8N"
      },
      "source": [
        "Dynamic typing"
      ]
    },
    {
      "cell_type": "code",
      "execution_count": null,
      "metadata": {
        "id": "bdVeiwhozxt1"
      },
      "outputs": [],
      "source": [
        "n=10\n",
        "print(type(n)) # here it is integer type\n",
        "n=n/2\n",
        "print(type(n)) # after dividing it becomes float"
      ]
    },
    {
      "cell_type": "markdown",
      "metadata": {
        "id": "2pi51Yf-6lUO"
      },
      "source": [
        "Variables,Operators and expressions"
      ]
    },
    {
      "cell_type": "markdown",
      "metadata": {
        "id": "fjQquy9xE-Di"
      },
      "source": [
        "- Keywords cannot be used as variables like for, and, True, or, not\n",
        "- Variables can be assigned as alphanumeric characters and underscores\n",
        "- Variables must start with alphabet or undescores\n",
        "- Variables are case sensitive means consider lower and upper case alphabet as differnt"
      ]
    },
    {
      "cell_type": "code",
      "execution_count": null,
      "metadata": {
        "id": "x4e4dUoK1j3E"
      },
      "outputs": [],
      "source": [
        "x, y=1, 2   # assign muliple varible in single line\n",
        "print(x,y)\n",
        "x,y=y,x   # swaps the variable\n",
        "print(x,y)"
      ]
    },
    {
      "cell_type": "code",
      "execution_count": null,
      "metadata": {
        "id": "0Y06KLlc4NuQ"
      },
      "outputs": [],
      "source": [
        "x=10\n",
        "print(x)\n",
        "del x  # del function deletes the variable\n",
        "x=23 # Reassign the variable\n",
        "print(x)"
      ]
    },
    {
      "cell_type": "markdown",
      "metadata": {
        "id": "qjql_etx5yQN"
      },
      "source": [
        "Short hand Operators"
      ]
    },
    {
      "cell_type": "code",
      "execution_count": null,
      "metadata": {
        "id": "7H7HWZF24eFT"
      },
      "outputs": [],
      "source": [
        "count=10\n",
        "count+=1  # short hand operators(+=)\n",
        "count-=1  # subtract by 1\n",
        "count*=2  # multiply by 2\n",
        "count/=4  # divide by 4\n",
        "print(count)"
      ]
    },
    {
      "cell_type": "code",
      "execution_count": null,
      "metadata": {
        "id": "qOrkfbSL6mQL"
      },
      "outputs": [],
      "source": [
        "print('alpha' in 'a variable name can only contain alpha-numeric characters and underscores')\n",
        "# in function checks whether 'x' in 'y' or not\n",
        "# gives output as True or False\n",
        "print('alpha' in 'a variable name must start with a letter or the unerscore character')"
      ]
    },
    {
      "cell_type": "markdown",
      "metadata": {
        "id": "MaZjS2ew8ET5"
      },
      "source": [
        "Changing Operators"
      ]
    },
    {
      "cell_type": "code",
      "execution_count": null,
      "metadata": {
        "id": "Qf7HGgX58JUE"
      },
      "outputs": [],
      "source": [
        "x=5\n",
        "# usage of relational operators like in these manner called Changing operators\n",
        "print(1<x<10)\n",
        "print(10<x<20)\n",
        "print(x<10<10*10<500)\n",
        "print(5==x>4)"
      ]
    },
    {
      "cell_type": "markdown",
      "metadata": {
        "id": "nGxcBEWe9ML_"
      },
      "source": [
        "Escape Characters and types of quotes"
      ]
    },
    {
      "cell_type": "code",
      "execution_count": null,
      "metadata": {
        "id": "l-eRvKBO9Wdr"
      },
      "outputs": [],
      "source": [
        "# \\ is backslash\n",
        "print(\"It's a beautiful days\") # open with \"\" must always end with \"\"\n",
        "# differentiate between '' and \" \"\n",
        "print(\"It\\\\s a beautiful days\")\n",
        "# \\' is escape character\n",
        "# it neglects ' as string\n",
        "print(\"We are from \\\"IIT\\\" Madras\")\n",
        "print('We are from \"IIT\" Madras') # open with ' must always end with '\n",
        "# So it diffrentiates between '' and \" \"\n",
        "\n",
        "print(\"a\\b\\c\\d\\e\")\n",
        "\n",
        "name=str(input())\n",
        "place=str(input())\n",
        "print('My name is',name,'\\tI am from',place)\n",
        "# \\t creates space\n",
        "print('My name is',name+'.','\\nI am from',place)\n",
        "# \\n goes to next line"
      ]
    },
    {
      "cell_type": "code",
      "execution_count": null,
      "metadata": {
        "id": "FFQs60NJAEAG"
      },
      "outputs": [],
      "source": [
        "x='first line' # single quote\n",
        "y=\"second line\" # double quote\n",
        "z='''third line\n",
        "fourth line\n",
        "fifth line''' # triple quote\n",
        "\n",
        "'''is used to print\n",
        "multi line strings and\n",
        "multi line comments'''\n",
        "\n",
        "print(x)\n",
        "print(y)\n",
        "print(z)"
      ]
    },
    {
      "cell_type": "markdown",
      "metadata": {
        "id": "f6PvuL3_EWQJ"
      },
      "source": [
        "String Methods"
      ]
    },
    {
      "cell_type": "code",
      "execution_count": null,
      "metadata": {
        "id": "JjJnXROhEV3M",
        "colab": {
          "base_uri": "https://localhost:8080/"
        },
        "outputId": "73223837-4db6-44a6-ade4-d117261da6dd"
      },
      "outputs": [
        {
          "output_type": "stream",
          "name": "stdout",
          "text": [
            "python string methods\n",
            "P\n",
            "Python string methods\n",
            "Python String Methods\n",
            "PYThOn StRING MeTHoDS\n",
            "False\n",
            "True\n"
          ]
        }
      ],
      "source": [
        "x='pytHoN sTring mEthOds'\n",
        "print(x.lower()) # convert the strings into lower case\n",
        "print(x.upper()) # convert the strings into upper case\n",
        "print(x.capitalize()) # convert the 1st letter of string into upper case\n",
        "print(x.title()) # convert the 1st letter of word into upper case\n",
        "print(x.swapcase()) # convert lower into upper case and vice versa\n",
        "\n",
        "a='   '\n",
        "print(a.isalnum())\n",
        "print(a.isspace())"
      ]
    },
    {
      "cell_type": "markdown",
      "metadata": {
        "id": "e4CjU7KFEfGd"
      },
      "source": [
        "- `islower()` function checks the string whether it is in lower case\n",
        "or not and returns the Boolean value\n",
        "- `isuppper()` function checks the string whether it is in upper case\n",
        "or not and returns the Boolean value\n",
        "- `istitle()` function checks the string whether it is in title\n",
        "or not and returns the Boolean value\n",
        "- `isdigit()` function checks the string whether it contains only numbers or not and returns the Boolean value\n",
        "- `isalpha()` function checks the string whether it contains only alphabet or not and returns the Boolean value\n",
        "- `isalnum()` function checks the string whether it contains only alphabet and numbers or not and returns the Boolean value"
      ]
    },
    {
      "cell_type": "code",
      "execution_count": null,
      "metadata": {
        "id": "_WO7DPBgyUbE"
      },
      "outputs": [],
      "source": [
        "x='-----Python------' # strip('') removes character which occurs continously\n",
        "print(x.strip('-')) # strip('-') removes - character in string in both side\n",
        "print(x.lstrip('-')) # lstrip('-') removes - character in left side\n",
        "print(x.rstrip('-')) # rstrip('-') removes - character in right side"
      ]
    },
    {
      "cell_type": "code",
      "execution_count": null,
      "metadata": {
        "id": "f7MNq3r00OdI"
      },
      "outputs": [],
      "source": [
        "x=\"python\"\n",
        "print(x.startswith('p'))\n",
        "\n",
        "'''checks wheather the string starts or ends with that character or not\n",
        "and returns Boolean value'''\n",
        "\n",
        "print(x.endswith('N'))"
      ]
    },
    {
      "cell_type": "code",
      "execution_count": null,
      "metadata": {
        "id": "kZCGLDIR1Pea"
      },
      "outputs": [],
      "source": [
        "x='Python String Methods'\n",
        "print(x.count('t')) # counts the character in string\n",
        "print(x.index('t'))\n",
        "\n",
        "'''gives the index of character in string and\n",
        "always gives 1st occurence of character in string'''\n",
        "\n",
        "print(x.replace('t','s')) # replace the character of 't' by's'"
      ]
    },
    {
      "cell_type": "markdown",
      "metadata": {
        "id": "Vc_S3_so23G6"
      },
      "source": [
        "An Interesting Cipher"
      ]
    },
    {
      "cell_type": "code",
      "execution_count": null,
      "metadata": {
        "id": "RIINiQPp3BrD"
      },
      "outputs": [],
      "source": [
        "alpha=' abcdefghijklmnopqrstuvwxyz'\n",
        "# here space consider as character\n",
        "i=26\n",
        "print(alpha[i])\n",
        "print(alpha[(i+1)%26]) # %(modulus) keeps us not go out of range\n",
        "print(alpha[(i+2)%26]) # if it goes out of range it again starts printing the letters from 1st"
      ]
    },
    {
      "cell_type": "code",
      "execution_count": null,
      "metadata": {
        "id": "qfN8pBGD854F"
      },
      "outputs": [],
      "source": [
        "# this is popularly called as Caesar cipher in crptography\n",
        "alpha='abcdefghijklmnopqrstuvwxyz'\n",
        "x='india'\n",
        "\n",
        "z=''\n",
        "i=0\n",
        "k=2 # shifts the letter by 2\n",
        "z=z+(alpha[(((alpha.index(x[i]))+k)%26)])\n",
        "# + appends strings to variable t\n",
        "# be careful in opening and closing in paratheses\n",
        "z=z+(alpha[(((alpha.index(x[i+1]))+k)%26)])\n",
        "z=z+(alpha[(((alpha.index(x[i+2]))+k)%26)])\n",
        "z=z+(alpha[(((alpha.index(x[i+3]))+k)%26)])\n",
        "z=z+(alpha[(((alpha.index(x[i+4]))+k)%26)])\n",
        "print(z)\n"
      ]
    },
    {
      "cell_type": "markdown",
      "metadata": {
        "id": "M5OAkkBxA3sf"
      },
      "source": [
        "If Statement"
      ]
    },
    {
      "cell_type": "code",
      "execution_count": null,
      "metadata": {
        "id": "zDgKpJDjA7mY"
      },
      "outputs": [],
      "source": [
        "# Let us consider the movie \"Avengers\".This is 13+ movie.\n",
        "birth_year=int(input('Enter your date of  birth:'))\n",
        "current_year=2022\n",
        "age=current_year-birth_year\n",
        "\n",
        "if (age<13):\n",
        "  print('You are under age,you cannot watch the movie')\n",
        "  print('Wait until age 13 to watch the movie')\n",
        "else:\n",
        "  print('Enjoy the movie')\n",
        "\n",
        "print(\"Have a nice time\") # this is irrespective of if and else condition"
      ]
    },
    {
      "cell_type": "markdown",
      "metadata": {
        "id": "9mfRUAgPER61"
      },
      "source": [
        "if , else , elif condition"
      ]
    },
    {
      "cell_type": "code",
      "execution_count": null,
      "metadata": {
        "id": "qPRctKf0EZAW"
      },
      "outputs": [],
      "source": [
        "# Problem 1: Find whether the given number is odd or even\n",
        "\n",
        "num=int(input(\"Enter a number:\"))\n",
        "if (num%2==0):\n",
        "  print('It is even number')\n",
        "else:\n",
        "  print('It is odd number')"
      ]
    },
    {
      "cell_type": "code",
      "execution_count": null,
      "metadata": {
        "id": "ZsobdLv3LXRg"
      },
      "outputs": [],
      "source": [
        "# Problem 2: Find whether the given number ends with 0 or 5\n",
        "\n",
        "num=int(input(\"Enter a number:\"))\n",
        "\n",
        "if (num%5==0):\n",
        "  if (num%10==0):\n",
        "    print('Ends with 0')\n",
        "  else:\n",
        "    print('Ends with 5')\n",
        "else:\n",
        "  print('Ends with other')"
      ]
    },
    {
      "cell_type": "code",
      "execution_count": null,
      "metadata": {
        "id": "Qzy6PhsIMZu5"
      },
      "outputs": [],
      "source": [
        "# Problem 3: Find the grade of student based on the given marks from 0 to 100\n",
        "\n",
        "mark=int(input('Enter your matrk:'))\n",
        "if(mark>=0 and mark<=100):\n",
        " if(mark>=90):\n",
        "  print('A') # A letter denotes Grades\n",
        " elif(90>mark>=80):\n",
        "  print('B')\n",
        " elif(80>mark>=70):\n",
        "  print('C')\n",
        " elif(70>mark>=60):\n",
        "  print('D')\n",
        " elif(mark<60):\n",
        "  print('E')\n",
        "else:\n",
        "  print('Please,Enter the correct mark')"
      ]
    },
    {
      "cell_type": "code",
      "execution_count": null,
      "metadata": {
        "id": "g6j_ZJZNRezd"
      },
      "outputs": [],
      "source": [
        "# Problem 4\n",
        "\n",
        "print('Travel from city A to B')\n",
        "\n",
        "time=int(input('Enter time:'))\n",
        "longer=int(input('Define longer:'))\n",
        "\n",
        "if(time>=longer):\n",
        "  price=int(input('Enter price:'))\n",
        "  higher=int(input('Define higher:'))\n",
        "  if(price>=higher):\n",
        "    print('Train')\n",
        "  else:\n",
        "    print('Couch')\n",
        "else:\n",
        "  price=int(input('Enter price:'))\n",
        "  higher=int(input('Define higher:'))\n",
        "  if(price>=higher):\n",
        "    print('Daytime flight')\n",
        "  else:\n",
        "    print('Red eye flight')\n",
        "print('Arrive at city B')\n"
      ]
    },
    {
      "cell_type": "markdown",
      "metadata": {
        "id": "SOXXAkJ7UyTy"
      },
      "source": [
        "Import Library"
      ]
    },
    {
      "cell_type": "code",
      "execution_count": null,
      "metadata": {
        "id": "hzCt8gYfVAvx"
      },
      "outputs": [],
      "source": [
        "import math\n",
        "\n",
        "print(math.sqrt(16)) # take square root of number\n",
        "print(math.factorial(5)) # factorial of number\n",
        "print(math.pow(10,3)) # output 10^3"
      ]
    },
    {
      "cell_type": "code",
      "execution_count": null,
      "metadata": {
        "id": "dNTZKrb7XMTE"
      },
      "outputs": [],
      "source": [
        "# Simulate toss a coin\n",
        "import random\n",
        "\n",
        "a=random.random() # random number between 0 to 1\n",
        "#a=random.randint(0,10) # random integer from 0 to 9\n",
        "if(a>.5):\n",
        "  print('Heads')\n",
        "else:\n",
        "  print('Tails')"
      ]
    },
    {
      "cell_type": "code",
      "execution_count": null,
      "metadata": {
        "id": "ISdGwuVCYVFN"
      },
      "outputs": [],
      "source": [
        "# Simulate a dice\n",
        "import random\n",
        "\n",
        "dice1=random.randrange(1,7) # excludes 7\n",
        "# random integer from 1 to 6\n",
        "dice2=random.randrange(1,7)\n",
        "total=dice1+dice2\n",
        "\n",
        "print(\"Your pair of dice is:\",total)"
      ]
    },
    {
      "cell_type": "code",
      "execution_count": null,
      "metadata": {
        "id": "_h2v-LEuZ0v5"
      },
      "outputs": [],
      "source": [
        "import calendar # brings entire calendar\n",
        "'''\n",
        "print(calendar.calendar(2002)) # prints 2002 year calendar\n",
        "print(calendar.month(2002,4))  # prints 2002 year,month 4 calendar\n",
        "'''\n",
        "\n",
        "from calendar import* # brings the function of calendar library\n",
        "print(month(2002,4))\n",
        "print(calendar(2002))"
      ]
    },
    {
      "cell_type": "code",
      "execution_count": null,
      "metadata": {
        "id": "G7brBhkDcEg2"
      },
      "outputs": [],
      "source": [
        "'''\n",
        "import calendar as c # importing calendar as variable c\n",
        "print(c.month(2002,4))\n",
        "'''\n",
        "from calendar import month as m\n",
        "# import feature of calendar as variable m(month)\n",
        "print(m(2002,4))"
      ]
    },
    {
      "cell_type": "markdown",
      "metadata": {
        "id": "SOEWWafsGHn8"
      },
      "source": [
        "# WEEK-3"
      ]
    },
    {
      "cell_type": "markdown",
      "metadata": {
        "id": "TuHyxiReK-Ty"
      },
      "source": [
        "Introduction to while loop"
      ]
    },
    {
      "cell_type": "code",
      "execution_count": null,
      "metadata": {
        "id": "iuUJ0csyGTOm"
      },
      "outputs": [],
      "source": [
        "print(\"When did India get its indepence(year)?\")\n",
        "year=int(input())\n",
        "\n",
        "while(year!=1947):  # while loop continues until you give correct answer\n",
        "  print(\"Your answer is wrong.Please,Enter it again\")\n",
        "  year=int(input())\n",
        "\n",
        "print(\"You got it right\")"
      ]
    },
    {
      "cell_type": "code",
      "execution_count": null,
      "metadata": {
        "id": "VVVXFSrlOFNR"
      },
      "outputs": [],
      "source": [
        "# Computing Factorial using while loop\n",
        "\n",
        "n=int(input(\"Enter a number:\"))\n",
        "\n",
        "i=1\n",
        "answer=1\n",
        "\n",
        "while(i<=n):\n",
        "  answer*=i\n",
        "  i+=1\n",
        "\n",
        "print(answer)"
      ]
    },
    {
      "cell_type": "markdown",
      "metadata": {
        "id": "abnM24NEVqoL"
      },
      "source": [
        "Tutorial on while loop"
      ]
    },
    {
      "cell_type": "code",
      "execution_count": null,
      "metadata": {
        "id": "dyWIv54kVtnw"
      },
      "outputs": [],
      "source": [
        "# Problem 1: Find the factorial of the given number\n",
        "\n",
        "num=int(input(\"Enter a number:\"))\n",
        "fact=1\n",
        "if(num<0):\n",
        "  print(\"Not defined\")\n",
        "else:\n",
        " while(num>0):\n",
        "   fact*=num\n",
        "   num-=1      # using short hand operator\n",
        " print(fact)"
      ]
    },
    {
      "cell_type": "code",
      "execution_count": null,
      "metadata": {
        "id": "94QnpVYaXx3x"
      },
      "outputs": [],
      "source": [
        "# Problem 2: Find the number of digits in the given number\n",
        "\n",
        "num=abs(int(input(\"Enter a number:\"))) # prints absolute value\n",
        "digit=1\n",
        "while(num>9):\n",
        "  num=num//10 # after floor division by 10 it reduces by one number\n",
        "  digit+=1\n",
        "print(digit)"
      ]
    },
    {
      "cell_type": "code",
      "execution_count": null,
      "metadata": {
        "id": "rC2a4TupZzjL",
        "colab": {
          "base_uri": "https://localhost:8080/"
        },
        "outputId": "35c998ed-6392-4d98-91bb-2fd3d2383d5d"
      },
      "outputs": [
        {
          "output_type": "stream",
          "name": "stdout",
          "text": [
            "Enter a number:-1234\n",
            "-4321\n"
          ]
        }
      ],
      "source": [
        "# Problem 3: Reverse the digits in given number\n",
        "# for example 1234\n",
        "\n",
        "num=int(input(\"Enter a number:\"))\n",
        "absnum=abs(num)    # absolute value of number\n",
        "rev=absnum % 10      # gives remainder which is last number #4\n",
        "absnum=absnum//10    # reduces the number by 1  #123\n",
        "\n",
        "while(absnum>0):\n",
        "  r=absnum % 10        # Stores the remainder #3\n",
        "  absnum=absnum//10    # Stores the quotient # 2\n",
        "  rev=rev*10+r         # multiply by 10 &add by remainder,reverse the num #4321\n",
        "\n",
        "if(num>=0):\n",
        " print(rev)\n",
        "else:\n",
        "  print(rev-2*rev)   # reverse the num if negative"
      ]
    },
    {
      "cell_type": "code",
      "execution_count": null,
      "metadata": {
        "id": "Ek6cCsiQg-zo"
      },
      "outputs": [],
      "source": [
        "# Problem 4: Find the number is palindrome or not\n",
        "\n",
        "num=int(input(\"Enter a number:\"))\n",
        "absnum=abs(num)    # absolute value of number\n",
        "rev=absnum%10      # gives remainder which is last number #4\n",
        "absnum=absnum//10  # reduces the number by 1  #123\n",
        "while(absnum>0):\n",
        "  r=absnum%10          # Stores the remainder #321\n",
        "  absnum=absnum//10    # Stores the quotient\n",
        "  rev=rev*10+r    # multiply by 10 &add by remainder,reverse the num #4321\n",
        "if(num<0):\n",
        "  rev=rev-2*rev    # reverse the num if negative\n",
        "if(num==rev):\n",
        "  print(\"Palindrome\")\n",
        "else:\n",
        "  print(\"Not a palindrome\")"
      ]
    },
    {
      "cell_type": "markdown",
      "metadata": {
        "id": "i6nC6SxZkYvj"
      },
      "source": [
        "Introduction to for loop"
      ]
    },
    {
      "cell_type": "code",
      "execution_count": null,
      "metadata": {
        "id": "IozQ4DtLkyjM"
      },
      "outputs": [],
      "source": [
        "'''\n",
        "n=int(input())\n",
        "i=1\n",
        "while(i<=n):\n",
        "  print(\"Hello India\")\n",
        "  i+=1\n",
        "'''     # same output will be get using for loop\n",
        "\n",
        "for i in range(10): # variable i takes the valur from 0 to 9\n",
        "  print(i,\"Hello India\")"
      ]
    },
    {
      "cell_type": "code",
      "execution_count": null,
      "metadata": {
        "id": "hH41-DoKnygF"
      },
      "outputs": [],
      "source": [
        "n=int(input(\"Enter a number:\"))\n",
        "\n",
        "for i in range(n):\n",
        "  if (i%2==0):     # excutes if even number\n",
        "    print(i,\"Hello India\")\n",
        "  else:\n",
        "    print(i,\"Hello World\")"
      ]
    },
    {
      "cell_type": "code",
      "execution_count": null,
      "metadata": {
        "id": "T9xfkR5DpCRN"
      },
      "outputs": [],
      "source": [
        "# Sum of first n numbers\n",
        "'''\n",
        "n=int(input(\"Enter a number:\"))\n",
        "sum=n*(n+1)/2\n",
        "print(sum)\n",
        "'''\n",
        "n=int(input(\"Enter a number:\"))\n",
        "sum=0\n",
        "for i in range(n):\n",
        "  sum=sum+i\n",
        "print(sum)"
      ]
    },
    {
      "cell_type": "markdown",
      "metadata": {
        "id": "Wb0w-kE-rta1"
      },
      "source": [
        "for loop for multiplication tables"
      ]
    },
    {
      "cell_type": "code",
      "execution_count": null,
      "metadata": {
        "id": "SfeTJqXkt0Uz"
      },
      "outputs": [],
      "source": [
        "t=9\n",
        "while(t<=10):\n",
        " for i in range(1,11):  # range from 1 to 10\n",
        "   print(t,\"x\",i,\"=\",t*i)\n",
        " print()  # creates a empty space line\n",
        " t+=1"
      ]
    },
    {
      "cell_type": "markdown",
      "metadata": {
        "id": "M2Tu6c0DxA1z"
      },
      "source": [
        "More on range and for loop without range"
      ]
    },
    {
      "cell_type": "code",
      "execution_count": null,
      "metadata": {
        "id": "uq4kSNX8wkiW"
      },
      "outputs": [],
      "source": [
        "for x in range(0,11,2): # range from 0 to 10\n",
        "# 1st  parameter start (optional)\n",
        "# 2nd  parameter end (mandatory)\n",
        "# 3rd  parameter step count (optional)\n",
        "  print(x)\n",
        "\n",
        "# To print the numbers in reverse order using for loop\n",
        "for i in range(9,-1,-2):\n",
        "#1st parameter start(optional)\n",
        "#2nd parameter end(mandatory),goes reverse order upto 0,-1 is not included\n",
        "#3rd parameter step count(optional), -2 decreases by step 2\n",
        "  print(i)\n"
      ]
    },
    {
      "cell_type": "code",
      "execution_count": null,
      "metadata": {
        "id": "3D-rPEMcz844"
      },
      "outputs": [],
      "source": [
        "country=\"India\"\n",
        "# in string for loop goes through each character\n",
        "for letter in country:\n",
        "  print(letter)"
      ]
    },
    {
      "cell_type": "markdown",
      "metadata": {
        "id": "hM84z5iv0bSv"
      },
      "source": [
        "Formatted Printing"
      ]
    },
    {
      "cell_type": "code",
      "execution_count": null,
      "metadata": {
        "id": "UVpfG-TR0haf"
      },
      "outputs": [],
      "source": [
        "d=int(input(\"Enter a Date:\"))\n",
        "m=int(input(\"Enter a month:\"))\n",
        "y=int(input(\"Enter a year:\"))\n",
        "\n",
        "print(\"Today's date is\",end=' ')\n",
        "# end creates space and types output in a single line\n",
        "print(d,m,y,sep='/',end=\" \") # sep function using a character\n",
        "print (\"I born on that day\")"
      ]
    },
    {
      "cell_type": "code",
      "execution_count": null,
      "metadata": {
        "id": "Osy0ntCHpWbt"
      },
      "outputs": [],
      "source": [
        "num=int(input())\n",
        "\n",
        "for i in range(1,11):  # range from 1 to 10\n",
        " print('%d x %d =%d' % (num,i,num*i))\n",
        " #print(f'{num} x {i} = {num*i}')  # f' ' ,  means formatted printing\n",
        "# {val} val consider as integer type other than that are string type\n",
        " '''\n",
        "  print('{0} X {1} = {2}'.format(num,i,num*i))\n",
        "  # here it prints like this format   '''\n"
      ]
    },
    {
      "cell_type": "code",
      "execution_count": null,
      "metadata": {
        "id": "0dyfjoswwUq_"
      },
      "outputs": [],
      "source": [
        "pi = 22/7\n",
        "print(f'Value of PI = {pi}')\n",
        "print('Value of PI = {0}'.format(pi))\n",
        "print('Value of PI = %f' % (pi))\n",
        "\n",
        "print(f'Value of PI = {pi:.2f}')    # prints 2 digit after decimal point\n",
        "print('Value of PI = {0:.4f}'.format(pi)) # prints 4 digit after a point\n",
        "print('Value of PI = %.3f' % (pi))   # prints 3 digit after a point"
      ]
    },
    {
      "cell_type": "code",
      "execution_count": null,
      "metadata": {
        "id": "n1SsK-Qu0cnN",
        "colab": {
          "base_uri": "https://localhost:8080/"
        },
        "outputId": "cf87b7b5-7727-48d0-ff8e-af7c175b8ec5"
      },
      "outputs": [
        {
          "output_type": "stream",
          "name": "stdout",
          "text": [
            "1\n",
            "11\n",
            "111\n",
            "  1\n",
            " 11\n",
            "111\n"
          ]
        }
      ],
      "source": [
        "print('{0}'.format(1))\n",
        "print('{0}'.format(11))\n",
        "print('{0}'.format(111))\n",
        "\n",
        "print('{0:3d}'.format(1))   # 3d indicates right alignment upto 3 digit\n",
        "print('{0:3d}'.format(11))  # d means digit\n",
        "print('{0:3d}'.format(111))"
      ]
    },
    {
      "cell_type": "markdown",
      "metadata": {
        "id": "O4zN561f1rtU"
      },
      "source": [
        "Tutorial on for loop and difference between while loop and for loop"
      ]
    },
    {
      "cell_type": "code",
      "execution_count": null,
      "metadata": {
        "id": "ZsnnZ4Yv17W7"
      },
      "outputs": [],
      "source": [
        "# Problem 1: Find the factorial of the given number\n",
        "\n",
        "num=int(input(\"Enter a number:\"))\n",
        "fact=1\n",
        "if(num<0):\n",
        "  print(\"Not defined\")\n",
        "else:\n",
        " for i in range(num,1,-1): # 3rd parameter -1 means decreases by step 1\n",
        "   fact*=i\n",
        " print(fact)\n",
        "\n",
        "# while loop is used when we don't know no.of iterations\n",
        "# for loop is used when we know no.of iteration\n",
        "# for loop uses the function range()"
      ]
    },
    {
      "cell_type": "code",
      "execution_count": null,
      "metadata": {
        "id": "rd0oT0d7Z22C"
      },
      "outputs": [],
      "source": [
        "# Problem 2: Find the number of digits in the given number\n",
        "\n",
        "num=abs(int(input(\"Enter a number:\"))) # prints absolute value\n",
        "strNum=str(num)\n",
        "digit=0\n",
        "for c in strNum:\n",
        "  digit+=1\n",
        "print(digit)\n",
        "\n",
        "# While loop is more ideal than for loop"
      ]
    },
    {
      "cell_type": "code",
      "execution_count": null,
      "metadata": {
        "id": "B5vQAjN0b4kD"
      },
      "outputs": [],
      "source": [
        "# Problem 3: Reverse the digits in given number\n",
        "# for example 1234\n",
        "\n",
        "num=int(input(\"Enter a number:\"))\n",
        "absStrnum=str(abs(num))    # absolute value of number\n",
        "rev=''\n",
        "for c in absStrnum:\n",
        "  rev=c+rev\n",
        "if(num>=0):\n",
        " print(rev)\n",
        "else:\n",
        "  print('-'+ rev)   # reverse the num if negative\n",
        "\n",
        "# While loop is more ideal than for loop"
      ]
    },
    {
      "cell_type": "code",
      "execution_count": null,
      "metadata": {
        "id": "0vr34mQYdAow"
      },
      "outputs": [],
      "source": [
        "# Problem 4: Find the number is palindrome or not\n",
        "\n",
        "num=int(input(\"Enter a number:\"))\n",
        "absStrnum=str(abs(num))    # converts integer into string\n",
        "rev=''\n",
        "for c in absStrnum:\n",
        "  rev=c+rev\n",
        "if(num<0):\n",
        "  rev='-' + rev    # reverse the num if negative\n",
        "if(num==int(rev)): # converts string into integer\n",
        "  print(\"Palindrome\")\n",
        "else:\n",
        "  print(\"Not a palindrome\")\n",
        "\n",
        "# While loop is more ideal than for loop"
      ]
    },
    {
      "cell_type": "code",
      "execution_count": null,
      "metadata": {
        "id": "50YcsRo4RWVl"
      },
      "outputs": [],
      "source": [
        "# Finding a prime number\n",
        "\n",
        "n=int(input())\n",
        "flag=True\n",
        "for i in range(2,n):\n",
        "  if(n%i==0):\n",
        "     flag=False\n",
        "     break\n",
        "\n",
        "if flag:\n",
        "    print(\"Prime\")\n",
        "else:\n",
        "  print(\"Not Prime\")"
      ]
    },
    {
      "cell_type": "markdown",
      "metadata": {
        "id": "kAeXkNjFWgIP"
      },
      "source": [
        "Nested for loop"
      ]
    },
    {
      "cell_type": "code",
      "execution_count": null,
      "metadata": {
        "id": "ZKTfAWovWiYI"
      },
      "outputs": [],
      "source": [
        "s=\"VIBGYOR\"\n",
        "t=\"VIBGYOR\"\n",
        "# Example for nested for loop\n",
        "count=0\n",
        "for i in range(len(s)):\n",
        "  for j in range(len(t)):\n",
        "    print(i,j,s[i],s[j])\n",
        "    count+=1\n",
        "\n",
        "print(\"Total no.of combination is\",count)"
      ]
    },
    {
      "cell_type": "markdown",
      "metadata": {
        "id": "l1RLvrgbYng4"
      },
      "source": [
        "Tutorial on nested loop"
      ]
    },
    {
      "cell_type": "code",
      "execution_count": null,
      "metadata": {
        "id": "pqDblDRyYsF2"
      },
      "outputs": [],
      "source": [
        "# Problem 1: Find all prime numbers less than the entered number\n",
        "\n",
        "n=int(input(\"Enter a number:\"))\n",
        "if(n>2):\n",
        "  print(2,end=' ')\n",
        "for i in range(3,n):\n",
        " flag=False\n",
        " for j in range(2,i):\n",
        "   if(i%j==0):\n",
        "     flag==False\n",
        "     break\n",
        "   else:\n",
        "     flag=True\n",
        " if(flag==True):\n",
        "  print(i,end=' ')"
      ]
    },
    {
      "cell_type": "code",
      "execution_count": null,
      "metadata": {
        "id": "dYw41_m9c3x_"
      },
      "outputs": [],
      "source": [
        "'''Problem 2:\n",
        "Find the total profit/loss of each trader working in a trading firm.\n",
        "Information regarding numbers of traders and\n",
        "number of transanction is unknown'''\n",
        "\n",
        "empID=input('Enter employee ID: ')\n",
        "while(empID!='-1'):\n",
        "  trade=int(input(\"Enter the trade amount:\"))\n",
        "  profit_loss=0\n",
        "  while(trade!=0):\n",
        "    profit_loss=profit_loss + trade\n",
        "    trade=int(input(\"Enter the trade amount:\"))\n",
        "  print(f'Profit/loss for employee {empID} is {profit_loss}') # f'' means formatted printing\n",
        "  empID=input('\\nEnter employee ID:')  #\\n takes to next line"
      ]
    },
    {
      "cell_type": "code",
      "execution_count": null,
      "metadata": {
        "id": "sax43fhpqAC4"
      },
      "outputs": [],
      "source": [
        "'''Problem 3:\n",
        "Find the day wise total rainfall for the entered duration of time\n",
        "e.g.week,month,etc.\n",
        "'''\n",
        "\n",
        "days=int(input(\"Enter the number of days:\"))\n",
        "for i in range(1,days+1):\n",
        "  total=0\n",
        "  rainfall=int(input('Enter the rainfall:'))\n",
        "  while(rainfall!=-1):\n",
        "    total+=rainfall\n",
        "    rainfall=int(input('Enter the rainfall:'))\n",
        "  print('Total rainfall of the day {0} is {1}'.format(i,total))"
      ]
    },
    {
      "cell_type": "code",
      "execution_count": null,
      "metadata": {
        "id": "fOiEAiuZuLVe"
      },
      "outputs": [],
      "source": [
        "# Problem 4: Find the length of longest word from the set of words entered by user\n",
        "word=input(\"Enter a word:\")\n",
        "maxlen=0\n",
        "while(word!='-1'):\n",
        "  count=0\n",
        "  for letter in word:\n",
        "    count+=1\n",
        "  if(count>maxlen):\n",
        "    maxlen=count\n",
        "  word=input(\"Enter a word:\")\n",
        "print('The length of the word is %s' %maxlen)"
      ]
    },
    {
      "cell_type": "markdown",
      "metadata": {
        "id": "j3KSvGwFxwzA"
      },
      "source": [
        "break,continue and pass"
      ]
    },
    {
      "cell_type": "code",
      "execution_count": null,
      "metadata": {
        "id": "sGXCS_xhx3Jj"
      },
      "outputs": [],
      "source": [
        "email=input(\"Enter your email ID:\")\n",
        "for i in email:\n",
        "  if(i=='@'):\n",
        "    break # break the loop\n",
        "  print(i,end='')"
      ]
    },
    {
      "cell_type": "code",
      "execution_count": null,
      "metadata": {
        "id": "yJ1Z08KGznHE"
      },
      "outputs": [],
      "source": [
        "email=input(\"Enter your email ID:\")\n",
        "for i in email:\n",
        "  if(i=='@'):\n",
        "    print('')\n",
        "    continue # continue jumps to next iteration and leaves @\n",
        "  print(i,end='')"
      ]
    },
    {
      "cell_type": "code",
      "execution_count": null,
      "metadata": {
        "id": "ZqiKeGJR0lku"
      },
      "outputs": [],
      "source": [
        "for i in range(11):\n",
        "  if(i%3==0):\n",
        "    print(i)\n",
        "  else:\n",
        "    pass  # pass performs no operation and it goes to next step\n",
        "          # pass function like filling the empty space"
      ]
    },
    {
      "cell_type": "markdown",
      "metadata": {
        "id": "jAfxt_nE2JI6"
      },
      "source": [
        "# WEEK-4"
      ]
    },
    {
      "cell_type": "markdown",
      "metadata": {
        "id": "rwfR5Nja8GMF"
      },
      "source": [
        "Warm up with Lists"
      ]
    },
    {
      "cell_type": "code",
      "execution_count": null,
      "metadata": {
        "id": "bd1MXIH4Ke_F"
      },
      "outputs": [],
      "source": [
        "l=[1,7,4,2,100]\n",
        "print(l)\n",
        "l.append(1024) # appends a value in list\n",
        "print(l)\n",
        "l.remove(1)\n",
        "print(l)\n",
        "l.remove(2) # removes 1st occurence of 2\n",
        "print(l)"
      ]
    },
    {
      "cell_type": "code",
      "execution_count": null,
      "metadata": {
        "id": "HvS0tTqj9NQu"
      },
      "outputs": [],
      "source": [
        "l=[]\n",
        "l.append(1)\n",
        "l.append(2)\n",
        "l.append(3)\n",
        "x=[]\n",
        "x.append(l) # append list l in list x\n",
        "print(x)  # gives list of list\n",
        "m=[10,20,30]\n",
        "x.append(m)\n",
        "print(x)\n",
        "t=[]\n",
        "t.append(x)\n",
        "print(t)\n",
        "t.append([100,200,300])\n",
        "print(t)\n",
        "print(t[0]) # print 0 index of list\n",
        "t[0][1][2]  # print list of list values"
      ]
    },
    {
      "cell_type": "code",
      "execution_count": null,
      "metadata": {
        "id": "zpZocrbP-2GO"
      },
      "outputs": [],
      "source": [
        "M=[]\n",
        "M.append([1,2,3])\n",
        "M.append([4,5,6])\n",
        "M.append([7,8,9])\n",
        "print(M)    # looks like a matrix\n",
        "\n",
        "print(M[0])\n",
        "print(M[0][2])\n",
        "print(M[0][1])\n",
        "print(M[0][0])\n",
        "print(M[1][1])\n",
        "print(M[2][2])"
      ]
    },
    {
      "cell_type": "markdown",
      "metadata": {
        "id": "S5w5pyiEAphb"
      },
      "source": [
        "Birthday Paradox"
      ]
    },
    {
      "cell_type": "code",
      "execution_count": null,
      "metadata": {
        "id": "es1gmU3kAvg5"
      },
      "outputs": [],
      "source": [
        "import random\n",
        "l=[]\n",
        "for i in range(10):\n",
        " x=random.randint(1,365) #randint(1,365) gives random integer from 1 to 365\n",
        " l.append(x) # appends x in list l\n",
        "\n",
        "l.sort() # sorts the number in ascending order\n",
        "print(l)\n",
        "\n",
        "i=0\n",
        "flag=0\n",
        "while(i<len(l)-1):\n",
        "  if(l[i]==l[i+1]):\n",
        "    print(\"Repeats\",l[i],l[i+1])\n",
        "    flag=flag+1\n",
        "    pass\n",
        "  i=i+1\n",
        "\n",
        "if(flag==0):\n",
        "  print(\"There is no repetition\")"
      ]
    },
    {
      "cell_type": "markdown",
      "metadata": {
        "id": "wjThHhOBSoHx"
      },
      "source": [
        "Naive Search in a List"
      ]
    },
    {
      "cell_type": "code",
      "execution_count": null,
      "metadata": {
        "id": "GVssx73aIi8w"
      },
      "outputs": [],
      "source": [
        "import random\n",
        "l=[]\n",
        "#for i in range(4):\n",
        "#  l.append(random.randint(1,10))\n",
        "#print(l)\n",
        "\n",
        "l=[2,3,4,7,9]\n",
        "\n",
        "a=0\n",
        "while(a>-1):\n",
        " a=int(input(\"Enter a number,type -1 to exit \"))\n",
        " flag=0\n",
        " for i in range(len(l)):\n",
        "   if (a==l[i]):\n",
        "    print(\"Element found\")\n",
        "    flag=1\n",
        "    break\n",
        " if (flag==0):\n",
        "  print(\"Element not found\")"
      ]
    },
    {
      "cell_type": "markdown",
      "metadata": {
        "id": "8HYWUKUUXXk-"
      },
      "source": [
        "The Obvious Sort"
      ]
    },
    {
      "cell_type": "code",
      "execution_count": null,
      "metadata": {
        "id": "yy2RCSmFXa7e"
      },
      "outputs": [],
      "source": [
        "l=[12,10,7,18,6,42,8,35]\n",
        "# don't sort using l.sort function\n",
        "x=[]\n",
        "\n",
        "while(len(l)>0):\n",
        "  min=l[0]\n",
        "  for i in range(len(l)):\n",
        "    if(l[i]<min): # finds the minimum element in list\n",
        "      min=l[i]\n",
        "  x.append(min)   # appends min element in x\n",
        "  l.remove(min)   # removes min element in list l\n",
        "\n",
        "print(l)\n",
        "print(x)"
      ]
    },
    {
      "cell_type": "markdown",
      "metadata": {
        "id": "tz17-kzyeM1X"
      },
      "source": [
        "Dot product"
      ]
    },
    {
      "cell_type": "code",
      "execution_count": null,
      "metadata": {
        "id": "pW599fWKiipF"
      },
      "outputs": [],
      "source": [
        "x=[1,5,7,3,5,9,3]\n",
        "sum=0\n",
        "for i in range(len(x)):\n",
        "  sum+=x[i]\n",
        "print(sum)"
      ]
    },
    {
      "cell_type": "code",
      "execution_count": null,
      "metadata": {
        "id": "2O3jcVa2jKct"
      },
      "outputs": [],
      "source": [
        "import random\n",
        "l=random.sample(list(range(6)),3)\n",
        "# random.sample(list(range(a)),b)\n",
        "# a should be greater than b\n",
        "# a is range of list\n",
        "# b is no of unique elements in list\n",
        "print(l)"
      ]
    },
    {
      "cell_type": "code",
      "execution_count": null,
      "metadata": {
        "id": "B2iODBDSechg"
      },
      "outputs": [],
      "source": [
        "x=[1,2,3,4,5]\n",
        "y=[1,2,3,4,5]\n",
        "\n",
        "dot_product=0\n",
        "if(len(x)==len(y)):\n",
        "  print(\"Dot product exits\")\n",
        "  for i in range(len(x)):\n",
        "    dot_product+=x[i]*y[i]\n",
        "  print(dot_product)\n",
        "else:\n",
        " print(\"Does not exists\")"
      ]
    },
    {
      "cell_type": "markdown",
      "metadata": {
        "id": "FB0oVDX5lDVf"
      },
      "source": [
        "Matrix addition"
      ]
    },
    {
      "cell_type": "code",
      "execution_count": null,
      "metadata": {
        "id": "QeIegTwmlJz0"
      },
      "outputs": [],
      "source": [
        "dim=3\n",
        "\n",
        "r1=[1,2,3]\n",
        "r2=[4,5,6]\n",
        "r3=[7,8,9]\n",
        "\n",
        "s1=[1,2,1]\n",
        "s2=[6,2,3]\n",
        "s3=[4,2,1]\n",
        "\n",
        "A=[]\n",
        "A.append(r1)\n",
        "A.append(r2)\n",
        "A.append(r3)\n",
        "\n",
        "B=[]\n",
        "B.append(s1)\n",
        "B.append(s2)\n",
        "B.append(s3)\n",
        "\n",
        "print(A)\n",
        "print(B)\n",
        "\n",
        "C=[[0,0,0],[0,0,0],[0,0,0]]\n",
        "if(len(A)==len(B)):\n",
        " for i in range(dim):\n",
        "  for j in range(dim):\n",
        "    C[i][j]=A[i][j]+B[i][j]  # Matrix addition\n",
        " print(C)\n",
        "print(C[0])\n",
        "print(f'{C[0][0]},{C[0][1]},{C[0][2]}')"
      ]
    },
    {
      "cell_type": "code",
      "execution_count": null,
      "metadata": {
        "id": "B-8DipfL1bae"
      },
      "outputs": [],
      "source": [
        "r1=[1,2,3]\n",
        "r2=[4,5,6]\n",
        "r3=[7,8,9]\n",
        "\n",
        "s1=[1,2,1]\n",
        "s2=[6,2,3]\n",
        "s3=[4,2,1]\n",
        "\n",
        "A=[]\n",
        "A.append(r1)\n",
        "A.append(r2)\n",
        "A.append(r3)\n",
        "\n",
        "B=[]\n",
        "B.append(s1)\n",
        "B.append(s2)\n",
        "B.append(s3)\n",
        "\n",
        "print(A)\n",
        "print(B)\n",
        "\n",
        "# Initialisation of addition matrix A & B\n",
        "C=[]\n",
        "row_A=row_B=len(A)     # Row of Matrix A=B\n",
        "column_A=column_B=len(A[0])   # Column of Matrix A=B\n",
        "for i in range(row_A):\n",
        "  l=[]\n",
        "  for j in range(column_B):\n",
        "     l.append(0)\n",
        "  C.append(l)\n",
        "print(C)\n",
        "\n",
        "if(len(A)==len(B) and len(A[0])==len(B[0])):\n",
        " print(\"Matrix Addition exist\")\n",
        " for i in range(row_A):\n",
        "  for j in range(column_A):\n",
        "    C[i][j]=A[i][j]+B[i][j]  # Matrix addition\n",
        " print(C)\n",
        "\n",
        "else:\n",
        "  print(\"Does not exist\")"
      ]
    },
    {
      "cell_type": "markdown",
      "metadata": {
        "id": "ZvUM0yKuocE6"
      },
      "source": [
        "Matrix Multiplication"
      ]
    },
    {
      "cell_type": "markdown",
      "metadata": {
        "id": "Kk9lUQiLGTPF"
      },
      "source": [
        "- Let A and B are two matrix\n",
        "- C be product of matrix A and B\n",
        "\n",
        "\n",
        "- `C[3][2]` - entry of 3rd row and 2nd column\n",
        "- `A[3][0].B[0][2]` + `A[3][1].B[1][2]` + `A[3][2].B[2][2]` + `A[3][3].B[3][2]` + ...\n",
        "- This is how matrix mulplication looks like\n"
      ]
    },
    {
      "cell_type": "code",
      "execution_count": null,
      "metadata": {
        "id": "OAv0MxNcrWj4"
      },
      "outputs": [],
      "source": [
        "r1=[1,2,3]\n",
        "r2=[4,5,6]\n",
        "r3=[7,8,9]\n",
        "\n",
        "s1=[1,2,1]\n",
        "s2=[6,2,3]\n",
        "s3=[4,2,1]\n",
        "\n",
        "A=[]\n",
        "A.append(r1)\n",
        "A.append(r2)\n",
        "A.append(r3)\n",
        "\n",
        "B=[]\n",
        "B.append(s1)\n",
        "B.append(s2)\n",
        "B.append(s3)\n",
        "\n",
        "print(A)\n",
        "print(B)\n",
        "\n",
        "C=[[0,0,0],[0,0,0],[0,0,0]]\n",
        "# C[i][j] is the dot product of the ith row of A and jth column of B\n",
        "# C[i][j]=dot product of A[i][...] and B[...][j]\n",
        "dim=3\n",
        "\n",
        "for i in range(dim):\n",
        "  for j in range(dim):\n",
        "    for a in range(dim):\n",
        "      C[i][j]+=A[i][a]*B[a][j] # Matrix multiplication\n",
        "\n",
        "print(C)"
      ]
    },
    {
      "cell_type": "code",
      "execution_count": null,
      "metadata": {
        "id": "ArN-wlKAvpka"
      },
      "outputs": [],
      "source": [
        "# Matrix multiplication using a library\n",
        "# Similarly Matrix addition also be computed\n",
        "import numpy\n",
        "\n",
        "A=[[1, 2, 3], [4, 5, 6], [7, 8, 9]]\n",
        "B=[[1, 2, 1], [6, 2, 3], [4, 2, 1]]\n",
        "\n",
        "X=numpy.mat(A) # converts list A into matrix form\n",
        "Y=numpy.mat(B) # converts list B into matrix form\n",
        "print(X)\n",
        "print(Y)\n",
        "print(X*Y)  # Automatically multiplies the matrix"
      ]
    },
    {
      "cell_type": "code",
      "execution_count": null,
      "metadata": {
        "id": "mcIskgjIxJoF"
      },
      "outputs": [],
      "source": [
        "# Check whether matrix multiplication exist\n",
        "A=[[1, 2], [4, 5], [7, 8]]\n",
        "B=[[1, 2, 1], [6, 2, 3]]\n",
        "import random\n",
        "if(len(A[0])==len(B)):\n",
        "  print('Matrix multiplication exists')\n",
        "  X=numpy.mat(A) # converts list A into matrix form\n",
        "  Y=numpy.mat(B) # converts list B into matrix form\n",
        "  print(X)\n",
        "  print(Y)\n",
        "  print(X*Y)\n",
        "else:\n",
        "  print('Does not exist')"
      ]
    },
    {
      "cell_type": "code",
      "execution_count": null,
      "metadata": {
        "id": "BcFkzCTm3M2g"
      },
      "outputs": [],
      "source": [
        "# Initialisation of product matrix A & B\n",
        "C=[]\n",
        "row_A=3     # Row of Matrix A\n",
        "column_B=3  # Column of Matrix B\n",
        "for i in range(row_A):\n",
        "  l=[]\n",
        "  for j in range(column_B):\n",
        "     l.append(0)\n",
        "  C.append(l)\n",
        "\n",
        "print(C)"
      ]
    },
    {
      "cell_type": "code",
      "execution_count": null,
      "metadata": {
        "id": "KMZuLD8R7KQS"
      },
      "outputs": [],
      "source": [
        "A=[[1, 3],[2, 4],[1, 2]] # Matrix in form a×n\n",
        "B=[[1, 2, 3],[4, 1, 2]]   # Matrix in form n×b\n",
        "\n",
        "# len(A) denotes row of Matrix A\n",
        "# len(A[0]) denotes column of Matrix A\n",
        "# len(B) denotes row of Matrix B\n",
        "# len(B[0]) denotes column of Matrix B\n",
        "\n",
        "row_A=len(A)\n",
        "column_A=len(A[0])\n",
        "row_B=len(B)\n",
        "column_B=len(B[0])\n",
        "\n",
        "# Initialisation of product matrix A & B\n",
        "C=[]\n",
        "for i in range(row_A):\n",
        "  l=[]\n",
        "  for j in range(column_B):\n",
        "    l.append(0)\n",
        "  C.append(l)\n",
        "\n",
        "if(column_A==row_B):\n",
        "  print('Matrix multiplication exists')\n",
        "  for i in range(row_A):\n",
        "    for j in range(column_B):\n",
        "      for a in range(row_B):\n",
        "        C[i][j]+=A[i][a]*B[a][j] # Matrix multiplication\n",
        "  print(C)\n",
        "else:\n",
        "  print(\"Does not exist\")"
      ]
    },
    {
      "cell_type": "code",
      "execution_count": null,
      "metadata": {
        "id": "a6PpIrtkFK7m"
      },
      "outputs": [],
      "source": [
        "# Initialisation of Matrix A\n",
        "row_A=1\n",
        "column_A=2\n",
        "\n",
        "A=[]\n",
        "for i in range(row_A):\n",
        "  l=[]\n",
        "  for j in range(column_A):\n",
        "    l.append(int(input()))\n",
        "  A.append(l)\n",
        "\n",
        "print(A)"
      ]
    },
    {
      "cell_type": "code",
      "execution_count": null,
      "metadata": {
        "id": "yJt6g7LUgWHZ",
        "colab": {
          "base_uri": "https://localhost:8080/"
        },
        "outputId": "453cd0b3-be56-4f0e-ac34-4a1fc6e5e61a"
      },
      "outputs": [
        {
          "output_type": "stream",
          "name": "stdout",
          "text": [
            "Matrix multiplication exists\n",
            "[[15, 21], [32, 38]]\n"
          ]
        }
      ],
      "source": [
        "# A=[[1, 2, 3], [4, 5, 6]] # Matrix in form a×n\n",
        "# B=[[1, 2], [6, 2]]   # Matrix in form n×b\n",
        "A = [\n",
        "    [1, 2, 3],\n",
        "    [4, 5, 4]\n",
        "]\n",
        "# A = 2 x 3\n",
        "# B = 3 x 2\n",
        "\n",
        "# C = 2 x 2\n",
        "B = [\n",
        "    [1, 2],\n",
        "    [4, 2],\n",
        "    [2, 5]\n",
        "]\n",
        "# C=[[0,0,0],[0,0,0],[0,0,0],[0,0,0]]  # Matrix in form a×b\n",
        "C = [[0,0], [0,0]]\n",
        "a=2 # row1\n",
        "b=2 # column2\n",
        "n=3 # column1 or row2\n",
        "\n",
        "if(len(A[0])==len(B)):\n",
        "  print('Matrix multiplication exists')\n",
        "  for i in range(a):\n",
        "    for j in range(b):\n",
        "      for a in range(n):\n",
        "        C[i][j]+=A[i][a]*B[a][j] # Matrix multiplication\n",
        "  print(C)\n",
        "\n",
        "else:\n",
        "  print(\"Does not exist\")"
      ]
    },
    {
      "cell_type": "markdown",
      "metadata": {
        "id": "_4FyrJjw4XVR"
      },
      "source": [
        "# WEEK-5"
      ]
    },
    {
      "cell_type": "markdown",
      "metadata": {
        "id": "HV1jo229TcG1"
      },
      "source": [
        "Introduction to functions"
      ]
    },
    {
      "cell_type": "code",
      "execution_count": null,
      "metadata": {
        "id": "VYIfB2agO5C3",
        "outputId": "8a6f6351-5877-498c-f9e3-b432fcddd307",
        "colab": {
          "base_uri": "https://localhost:8080/"
        }
      },
      "outputs": [
        {
          "output_type": "stream",
          "name": "stdout",
          "text": [
            "21.0\n"
          ]
        }
      ],
      "source": [
        "# Let us define a simple calculator\n",
        "# Note the difference between print and return statement\n",
        "\n",
        "def add(a,b):    # defining the function add\n",
        "  ans=a+b\n",
        "  return ans    # returns the values\n",
        "def sub(a,b):\n",
        "  ans=a-b\n",
        "  return ans\n",
        "def multiply(a,b):\n",
        "  ans=a*b\n",
        "  return ans\n",
        "def divide(a,b):\n",
        "  ans=a/b\n",
        "  return ans\n",
        "# Instead of return if we use print,it will throw an error\n",
        "\n",
        "# code snippet while using multiple functions together\n",
        "print(divide(15,5)+add(2,3)-sub(5,3)+multiply(3,5))"
      ]
    },
    {
      "cell_type": "code",
      "execution_count": null,
      "metadata": {
        "id": "vBllxE8PRxQE"
      },
      "outputs": [],
      "source": [
        "def discount(cost,d):\n",
        "  disc=cost-(cost*(d/100))\n",
        "  return(disc)\n",
        "\n",
        "c=int(input(\"Enter the cost price: \"))\n",
        "disc=int(input(\"Enter the discount: \"))\n",
        "\n",
        "print(\"The final discount price is\",discount(c,disc))\n",
        "# discount(c,disc) gives the same answer as in discount(cost,d)\n",
        "# Here it checks function and matches the variables inside the parathesis"
      ]
    },
    {
      "cell_type": "markdown",
      "metadata": {
        "id": "xrcpAW_DTkKc"
      },
      "source": [
        "More on functions"
      ]
    },
    {
      "cell_type": "code",
      "execution_count": null,
      "metadata": {
        "id": "TC-ri2ZVNed2"
      },
      "outputs": [],
      "source": [
        "def min_list(l):\n",
        "  min=l[0]\n",
        "  for i in range(len(l)):\n",
        "    if(l[i]<min):\n",
        "      min=l[i]\n",
        "  return min\n",
        "\n",
        "def max_list(l):\n",
        "  max=l[0]\n",
        "  for i in range(len(l)):\n",
        "    if(l[i]>max):\n",
        "      max=l[i]\n",
        "  return max\n",
        "\n",
        "def appendbefore(l,z):\n",
        "  newl=[]\n",
        "  for i in range(len(z)):\n",
        "    newl.append(z[i])\n",
        "  for i in range(len(l)):\n",
        "    newl.append(l[i])\n",
        "  return(newl)\n",
        "\n",
        "def l_avg(l):\n",
        "  sum=0\n",
        "  count=0\n",
        "  for i in range(len(l)):\n",
        "    sum+=l[i]\n",
        "    count+=1\n",
        "  avg=sum/count\n",
        "  return(avg)\n",
        "\n",
        "l=[4,56,8,35,-463,68,2,6,137,234,7]\n",
        "z=[1,2,3,4,5]\n",
        "print(min_list(l))\n",
        "print(max_list(l))\n",
        "print(appendbefore(l,z))\n",
        "print(l_avg(z))"
      ]
    },
    {
      "cell_type": "markdown",
      "metadata": {
        "id": "N0CkySVqYI4e"
      },
      "source": [
        "Sorting using Functions"
      ]
    },
    {
      "cell_type": "code",
      "execution_count": null,
      "metadata": {
        "id": "-lNMEhvwYIZo"
      },
      "outputs": [],
      "source": [
        "def obv_sort(l):\n",
        "  x=[]\n",
        "  while(len(l)>0):\n",
        "    min=l[0]\n",
        "    for i in range(len(l)):\n",
        "      if(l[i]<min):\n",
        "        min=l[i]\n",
        "    x.append(min)\n",
        "    l.remove(min)\n",
        "  return x\n",
        "\n",
        "l=[3,6,8,1,4,4,7,2]\n",
        "print(obv_sort(l))"
      ]
    },
    {
      "cell_type": "code",
      "execution_count": null,
      "metadata": {
        "id": "mNpFSnXkbHhm"
      },
      "outputs": [],
      "source": [
        "def min_list(l):\n",
        "  min=l[0]\n",
        "  for i in range(len(l)):\n",
        "    if(l[i]<min):\n",
        "      min=l[i]\n",
        "  return min\n",
        "\n",
        "def obv_sort(l):\n",
        "  x=[]\n",
        "  while(len(l)>0):\n",
        "    min=min_list(l)  # defining a another function inside the function\n",
        "    x.append(min)\n",
        "    l.remove(min)\n",
        "  return x\n",
        "\n",
        "l=[3,6,8,1,4,4,7,2]\n",
        "print(obv_sort(l))"
      ]
    },
    {
      "cell_type": "markdown",
      "metadata": {
        "id": "J8VL35ouckJv"
      },
      "source": [
        "Matrix Multiplication using function"
      ]
    },
    {
      "cell_type": "code",
      "execution_count": null,
      "metadata": {
        "id": "MWkyyWB7cqrl"
      },
      "outputs": [],
      "source": [
        "def initialize_mat(dim):\n",
        "  C=[]\n",
        "  for i in range(dim):\n",
        "    C.append([])\n",
        "  for i in range(dim):\n",
        "    for j in range(dim):\n",
        "      C[i].append(0)     # appends 0 in list of list\n",
        "  return C\n",
        "\n",
        "def dot_product(u,v):\n",
        "  dim=len(u)\n",
        "  ans=0\n",
        "  for i in range(dim):\n",
        "    ans=ans+(u[i]*v[i])\n",
        "  return ans\n",
        "\n",
        "def row(M,i): # (M,i) M is matrix & i denotes the row\n",
        "  dim=len(M)\n",
        "  l=[]\n",
        "  for k in range(dim):\n",
        "    l.append(M[i][k])  # M[i][k] ith row kth elements\n",
        "  return l\n",
        "\n",
        "def column(M,j):\n",
        "  dim=len(M)\n",
        "  l=[]\n",
        "  for k in range(dim):\n",
        "    l.append(M[k][j])  # M[k][j] jth column kth elements\n",
        "  return l\n",
        "\n",
        "def mat_mul(A,B):\n",
        "  dim=len(A)\n",
        "  C=initialize_mat(dim)\n",
        "  for i in range(dim):\n",
        "    for j in range(dim):\n",
        "      C[i][j]=dot_product(row(A,i),column(B,j))\n",
        "  return C\n",
        "\n",
        "# 1st multiplies 0th and 0th column stores in C[0][0]\n",
        "# 2nd multiplies 0th row and 1st column stores in C[0][1]\n",
        "# and so on\n",
        "\n",
        "A=[[1, 2, 3], [4, 5, 6], [7, 8, 9]]\n",
        "B=[[1, 2, 1], [6, 2, 3], [4, 2, 1]]\n",
        "print(mat_mul(A,B))"
      ]
    },
    {
      "cell_type": "markdown",
      "metadata": {
        "id": "5_NKCHjIgH2h"
      },
      "source": [
        "**Theory of Recursion**\n",
        "- Calculating Compound Interest using Recursion\n",
        "  - formula is $A(1+(r/100))^n$\n",
        "  - it is equilavent $A(1.1)^n$ for 10%\n",
        "\n",
        "- f(1)=2000(1.1)\n",
        "- f(2)=f(1)(1.1) or # f(2)=2000(1.1)(1.1)\n",
        "- f(3)=f(2)(1.1) or # f(3)=2000(1.1)(1.1)(1.1)\n",
        "- ........\n",
        "- f(n)=f(n-1)(1.1)\n",
        "\n",
        "\n",
        "- Calculating Factorial using an Recursion\n",
        "  - `fact(n)= fact(n-1) * n`\n",
        "- Calculating Sum of numbers using an Recursion\n",
        "  - `sum(n)=sum(n-1)+n`"
      ]
    },
    {
      "cell_type": "markdown",
      "metadata": {
        "id": "C73lu6GhgFSk"
      },
      "source": [
        "Recursive Illustration"
      ]
    },
    {
      "cell_type": "code",
      "execution_count": null,
      "metadata": {
        "id": "W5w0mEfogEj8"
      },
      "outputs": [],
      "source": [
        "def sum(n):\n",
        "  if(n==1):\n",
        "    return 1\n",
        "  else:\n",
        "    return n+sum(n-1)  # again using the same function\n",
        "\n",
        "# Recursion of compound interest of 10%\n",
        "def comp(p,n):\n",
        "  if(n==1):\n",
        "    return p*(1.1)\n",
        "  else:\n",
        "    return (comp(p,n-1))*1.1\n",
        "\n",
        "def fact(n):\n",
        "  if(n==0):\n",
        "    return 1\n",
        "  else:\n",
        "    return n*fact(n-1)\n",
        "\n",
        "fact(6)"
      ]
    },
    {
      "cell_type": "markdown",
      "metadata": {
        "id": "YkLSLMkGk3uh"
      },
      "source": [
        "Types of Function Arguments"
      ]
    },
    {
      "cell_type": "code",
      "execution_count": null,
      "metadata": {
        "id": "AyzNEaR5k-pZ"
      },
      "outputs": [],
      "source": [
        "def add(c,a,b):\n",
        "  return (a+b-c)\n",
        "\n",
        "print(20,30,40) # Positional Argument\n",
        "print(add(b=20,c=30,a=40)) # Keyword Argument"
      ]
    },
    {
      "cell_type": "code",
      "execution_count": null,
      "metadata": {
        "id": "MyJf5Rm3m9ko"
      },
      "outputs": [],
      "source": [
        "def add(c,a=20,b=30):\n",
        "  return (a+b-c)\n",
        "\n",
        "# Default Argument\n",
        "print(add(40))\n",
        "print(add(40,10)) # Here a=10 not 20\n",
        "print(add(40,10,50)) # Similarly a=10 b=50 c=40\n",
        "print(add(40,b=10,a=50))"
      ]
    },
    {
      "cell_type": "code",
      "execution_count": null,
      "metadata": {
        "id": "-fZQXqodoNv3"
      },
      "outputs": [],
      "source": [
        "print(print(20)) # print of print statement gives none"
      ]
    },
    {
      "cell_type": "markdown",
      "metadata": {
        "id": "6Fs5qIqtpoDl"
      },
      "source": [
        "Scope of Variables"
      ]
    },
    {
      "cell_type": "code",
      "execution_count": null,
      "metadata": {
        "id": "EnqqJ_NspsnF"
      },
      "outputs": [],
      "source": [
        "def function1(x): # x variable is accesible when using these function\n",
        "  x=x*2\n",
        "  print(\"Value of x in function 1\",x)\n",
        "\n",
        "def function2(x): # local variable\n",
        "  x=x*3\n",
        "  print(\"Value of x in function 2\",x)\n",
        "\n",
        "x=5  # Global variable\n",
        "print(\"Value of x before function call\",x)\n",
        "function1(x)\n",
        "function2(x)\n",
        "print(\"Value of x after function call\",x)"
      ]
    },
    {
      "cell_type": "code",
      "execution_count": null,
      "metadata": {
        "id": "fViCIAAosQuh"
      },
      "outputs": [],
      "source": [
        "def function1():\n",
        "  global x  # considers variable x as global variable\n",
        "  x=x*2\n",
        "  print(\"Value of x in function 1\",x)\n",
        "\n",
        "def function2():\n",
        "  global x\n",
        "  x=x*3\n",
        "  print(\"Value of x in function 2\",x)\n",
        "\n",
        "x=5\n",
        "print(\"Value of x before function call\",x)\n",
        "function1()\n",
        "function2()\n",
        "print(\"Value of x after function call\",x)"
      ]
    },
    {
      "cell_type": "markdown",
      "metadata": {
        "id": "m8JUbm2qthn5"
      },
      "source": [
        "Types of functions"
      ]
    },
    {
      "cell_type": "code",
      "execution_count": null,
      "metadata": {
        "id": "7hN8OtkAtmpt"
      },
      "outputs": [],
      "source": [
        "# Every function has paranthesis\n",
        "# Inbuilt functions\n",
        "# print() , input() , len()\n",
        "\n",
        "# Library functions\n",
        "# log(), sqrt(), random(), randrange(), calendar(), month()\n",
        "\n",
        "# String methods (functions)\n",
        "# upper(), lower(), strip(), count(), index(), replace()\n",
        "\n",
        "# User defined functions\n",
        "\n",
        "def square(x):\n",
        "  sqr=x**2\n",
        "  return sqr\n",
        "\n",
        "print(square(5))"
      ]
    },
    {
      "cell_type": "markdown",
      "metadata": {
        "id": "PSR3iFzxK0xk"
      },
      "source": [
        "Tutorials on functions"
      ]
    },
    {
      "cell_type": "code",
      "execution_count": null,
      "metadata": {
        "id": "kJa65imnK4v1"
      },
      "outputs": [],
      "source": [
        " # Problem 1: Write a python code using the functions which calculates\n",
        " # the number of uppercase letters, lower case letters,\n",
        " # total number of characters and number of words\n",
        "\n",
        "def upper(x):\n",
        "  upper=0\n",
        "  for i in x:\n",
        "    if (i.isupper()):\n",
        "       upper +=1\n",
        "  return upper\n",
        "\n",
        "def lower(x):\n",
        "  lower=0\n",
        "  for i in x:\n",
        "    if (i.islower()):\n",
        "       lower+=1\n",
        "  return lower\n",
        "\n",
        "def character(x):\n",
        "  chars=0\n",
        "  for i in x:\n",
        "    chars+=1\n",
        "  return chars\n",
        "\n",
        "def words(x):\n",
        "  words=1\n",
        "  for i in x:\n",
        "    if(i==' '):\n",
        "      words+=1\n",
        "  return words\n",
        "\n",
        "sentence=input(\"Enter the sentence: \")\n",
        "# Used formatted printing\n",
        "print(f'\\nThe total number of upper letters:{upper(sentence)}')\n",
        "print(f'\\nThe total number of lower letters:{lower(sentence)}')\n",
        "print(f'\\nThe total number of characters:{character(sentence)}')\n",
        "print(f'\\nThe total number of words:{words(sentence)}')"
      ]
    },
    {
      "cell_type": "code",
      "execution_count": null,
      "metadata": {
        "id": "R1MxGG9FUYVR"
      },
      "outputs": [],
      "source": [
        "# Problem 2: Write a python code using functions to\n",
        "# calculate Area and Perimeter of circle and rectangle\n",
        "\n",
        "# Approach 1: Standard code\n",
        "\n",
        "pi=22/7\n",
        "def circle_area(r):\n",
        "  area=pi*r*r\n",
        "  return area\n",
        "\n",
        "def circle_perimeter(r):\n",
        "  perimeter=2*pi*r\n",
        "  return perimeter\n",
        "\n",
        "def rectangle_area(l,b):\n",
        "  area=l*b\n",
        "  return area\n",
        "\n",
        "def rectangle_perimeter(l,b):\n",
        "  perimeter=2*(l+b)\n",
        "  return perimeter\n",
        "\n",
        "r=float(input(\"\\nEnter the radius of the circle: \"))\n",
        "cArea=circle_area(r)\n",
        "print(f'\\nArea of circle with radius {r} is {cArea} sq.units')\n",
        "cPerimeter=circle_perimeter(r)\n",
        "print(f'\\nPerimeter of circle with radius {r} is {cPerimeter} units')\n",
        "l=float(input(\"\\nEnter the length of the rectangle: \"))\n",
        "b=float(input(\"Enter the breadth of the rectangle: \"))\n",
        "rArea=rectangle_area(l,b)\n",
        "print(f'\\nArea of rectangle with length {l} and breadth {b} is {rArea} sq.units')\n",
        "rPerimeter=rectangle_perimeter(l,b)\n",
        "print(f'\\nPerimeter of rectangle with length {l} and breadth {b} is {rPerimeter} units')"
      ]
    },
    {
      "cell_type": "code",
      "execution_count": null,
      "metadata": {
        "id": "OW_ZZgVHG8zt"
      },
      "outputs": [],
      "source": [
        "# Problem 2: Write a python code using functions to\n",
        "# calculate Area and Perimeter of circle and rectangle\n",
        "\n",
        "# Approach 2: Menu driven code\n",
        "\n",
        "pi=22/7\n",
        "def circle_area(r):\n",
        "  area=pi*r*r\n",
        "  return area\n",
        "\n",
        "def circle_perimeter(r):\n",
        "  perimeter=2*pi*r\n",
        "  return perimeter\n",
        "\n",
        "def rectangle_area(l,b):\n",
        "  area=l*b\n",
        "  return area\n",
        "\n",
        "def rectangle_perimeter(l,b):\n",
        "  perimeter=2*(l+b)\n",
        "  return perimeter\n",
        "\n",
        "polygon=''\n",
        "while(polygon!='exit'):\n",
        "  print('\\nPOLYGONS\\ncircle\\nrectangle\\nexit')\n",
        "  polygon=input('\\nChoose the polygon type or exit: ')\n",
        "  property= ''\n",
        "  if(polygon=='circle'):\n",
        "    r=float(input('\\nEnter the radius of the circle: '))\n",
        "    while(property==''):\n",
        "      print('\\nCIRCLE PROPERTIES\\narea\\nperimeter\\nback')\n",
        "      property=input('\\nChoose the circle property or go back: ')\n",
        "      if(property=='area'):\n",
        "        cArea=circle_area(r)\n",
        "        print(f'\\nArea of circle with radius {r} is {cArea} sq.units')\n",
        "        property=''\n",
        "      elif(property=='perimeter'):\n",
        "        cPerimeter=circle_perimeter(r)\n",
        "        print(f'\\nPerimeter of circle with radius {r} is {cPerimeter} units')\n",
        "        property=''\n",
        "      elif(property=='back'):\n",
        "        break\n",
        "      else:\n",
        "        print('Please select the correctpolygon property')\n",
        "        property=''\n",
        "  elif(polygon=='rectangle'):\n",
        "    l=float(input('\\nEnter the length of the rectangle: '))\n",
        "    b=float(input('\\nEnter the breadth of the rectangle: '))\n",
        "    while(property==''):\n",
        "      print('\\nRECTANGLE PROPERTIES\\narea\\nperimeter\\nback')\n",
        "      property=input('\\nChoose the rectangle property or go back: ')\n",
        "      if(property=='area'):\n",
        "        rArea=rectangle_area(l,b)\n",
        "        print(f'\\nArea of rectangle with length {l} and breadth {b} is {rArea} sq.units')\n",
        "        property=''\n",
        "      elif(property=='perimeter'):\n",
        "        rPerimeter=rectangle_perimeter(l,b)\n",
        "        print(f'\\nPerimeter of rectangle with length {l} and breadth {b} is {rPerimeter} units')\n",
        "        property=''\n",
        "      elif(property=='back'):\n",
        "        break\n",
        "      else:\n",
        "        print('Please select the correctpolygon property')\n",
        "        property=''\n",
        "  elif(polygon=='exit'):\n",
        "    break\n",
        "  else:\n",
        "    print('Please select the correct polygon type or exit')\n"
      ]
    },
    {
      "cell_type": "code",
      "execution_count": null,
      "metadata": {
        "id": "Nm8MfxtUa6gj"
      },
      "outputs": [],
      "source": [
        "# Problem 3: Write a Python code using the functions which checks\n",
        "# whether the input coordinates form a triangle or not\n",
        "\n",
        "# Approach 1: Using distance between the points\n",
        "\n",
        "def distance(xi,yi,xj,yj):\n",
        "  return((((xj-xi)**2)+((yj-yi)**2))**0.5)\n",
        "\n",
        "def isTriangle(max,a,b):\n",
        "  if ((a+b)> max):\n",
        "    print('\\nTriangle')\n",
        "  else:\n",
        "    print('\\nNot a Triangle')\n",
        "\n",
        "x1=float(input(\"Enter x coordinate of 1st point: \"))\n",
        "y1=float(input(\"Enter y coordinate of 1st point: \"))\n",
        "x2=float(input(\"\\nEnter x coordinate of 2nd point: \"))\n",
        "y2=float(input(\"Enter y coordinate of 2nd point: \"))\n",
        "x3=float(input(\"\\nEnter x coordinate of 3rd point: \"))\n",
        "y3=float(input(\"Enter y coordinate of 3rd point: \"))\n",
        "\n",
        "d1=distance(x1, y1, x2, y2)\n",
        "print(f'\\nDistance between points ({x1}, {y1}) and ({x2}, {y2}) = {d1}')\n",
        "d2=distance(x2, y2, x3, y3)\n",
        "print(f'\\nDistance between points ({x2}, {y2}) and ({x3}, {y3}) = {d2}')\n",
        "d3=distance(x3, y3, x1, y1)\n",
        "print(f'\\nDistance between points ({x3}, {y3}) and ({x1}, {y1}) = {d3}')\n",
        "\n",
        "if(d1>d2):\n",
        "  if(d1>d3):\n",
        "    isTriangle(d1,d2,d3)\n",
        "  else:\n",
        "    isTriangle(d3,d1,d2)\n",
        "elif(d2>d1):\n",
        "  isTriangle(d2,d1,d3)\n",
        "else:\n",
        "  isTriangle(d3,d1,d2)"
      ]
    },
    {
      "cell_type": "code",
      "execution_count": null,
      "metadata": {
        "id": "XP3qvuLBQDhv"
      },
      "outputs": [],
      "source": [
        "# Problem 3: Write a Python code using the functions which checks\n",
        "# whether the input coordinates form a triangle or not\n",
        "\n",
        "# Approach 2: Using the slope of lines connecting two points\n",
        "\n",
        "import math\n",
        "def slope(xi,yi,xj,yj):\n",
        "  if(xi==xj):\n",
        "    return (math.inf)  # math.inf function gives infinity\n",
        "  else:\n",
        "    return((yj-yi)/(xj-xi))\n",
        "\n",
        "x1=float(input(\"Enter x coordinate of 1st point: \"))\n",
        "y1=float(input(\"Enter y coordinate of 1st point: \"))\n",
        "x2=float(input(\"\\nEnter x coordinate of 2nd point: \"))\n",
        "y2=float(input(\"Enter y coordinate of 2nd point: \"))\n",
        "x3=float(input(\"\\nEnter x coordinate of 3rd point: \"))\n",
        "y3=float(input(\"Enter y coordinate of 3rd point: \"))\n",
        "\n",
        "s1=slope(x1, y1, x2, y2)\n",
        "print(f'\\nSlope of the line between points ({x1}, {y1}) and ({x2}, {y2}) = {s1}')\n",
        "s2=slope(x2, y2, x3, y3)\n",
        "print(f'\\nSlope of the line between points ({x2}, {y2}) and ({x3}, {y3}) = {s2}')\n",
        "\n",
        "if(s1!=s2):\n",
        "  print('\\nTriangle')\n",
        "else:\n",
        "  print('\\nNot a Triangle')"
      ]
    },
    {
      "cell_type": "markdown",
      "metadata": {
        "id": "r-bz3eTNS_9x"
      },
      "source": [
        "# WEEK-6"
      ]
    },
    {
      "cell_type": "markdown",
      "metadata": {
        "id": "7RBCxjJUX832"
      },
      "source": [
        "Lists and Set"
      ]
    },
    {
      "cell_type": "code",
      "execution_count": null,
      "metadata": {
        "id": "26i2mdtbTDJ3",
        "outputId": "3cf6bd58-79c2-407f-af0f-bcf19ae6fcfd",
        "colab": {
          "base_uri": "https://localhost:8080/"
        }
      },
      "outputs": [
        {
          "output_type": "stream",
          "name": "stdout",
          "text": [
            "{1, 2, 3, 4, 5, 33, 7, 8, 'xyz', 'pqrs', 10, 45, 47, 56, 'abcd'}\n",
            "True\n",
            "True\n",
            "False\n",
            "3215\n"
          ]
        }
      ],
      "source": [
        "l=[1,2,3,4,56,7,8,5,33,45,5,47,3,'abcd','xyz','pqrs'] # list\n",
        "s={1,2,3,4,56,7,8,5,33,45,5,47,3,'abcd','xyz','pqrs'} # set\n",
        "type(l)\n",
        "type(s)\n",
        "s.add(10) # add element 10 in set s\n",
        "print(s) # set does not have repitative element\n",
        "\n",
        "print(56 in l) # in command checks the value in l or not\n",
        "print(3.0 in l) # 3.0 gives true because it considers as Real number\n",
        "\n",
        "l=list(range(100000000))\n",
        "# print(-1 in l)  # takes long time to search\n",
        "s=set(range(10000000))\n",
        "print(-433 in s) # Takes lesser time compared to list\n",
        "\n",
        "print(l[3215])\n",
        "# print(s[43])\n",
        "# It throws an error because set is not subscritable\n",
        "# set retrives the information faster than list whether the value is present or not"
      ]
    },
    {
      "cell_type": "code",
      "execution_count": null,
      "metadata": {
        "id": "yDKonEAAao-W",
        "outputId": "41243ed0-db23-458e-87ea-1c0fc440e3c8",
        "colab": {
          "base_uri": "https://localhost:8080/"
        }
      },
      "outputs": [
        {
          "output_type": "stream",
          "name": "stdout",
          "text": [
            "56\n",
            "120\n",
            "216\n"
          ]
        }
      ],
      "source": [
        "import sys\n",
        "l=[]\n",
        "l1=[0]\n",
        "l1=[1,2,3]\n",
        "s={1,2,3}\n",
        "\n",
        "print(sys.getsizeof(l)) # gives size of data stored in l in bytes\n",
        "print(sys.getsizeof(l1))\n",
        "print(sys.getsizeof(s))"
      ]
    },
    {
      "cell_type": "markdown",
      "metadata": {
        "id": "DQowS-m8eGHO"
      },
      "source": [
        "Dictionaries"
      ]
    },
    {
      "cell_type": "code",
      "execution_count": null,
      "metadata": {
        "id": "K-oDaskDeIZK",
        "outputId": "15d992a8-8362-49ac-84ca-458de41817ef",
        "colab": {
          "base_uri": "https://localhost:8080/"
        }
      },
      "outputs": [
        {
          "output_type": "stream",
          "name": "stdout",
          "text": [
            "{'a': 1234567890, 'b': 2345678901, 'c': 3456789012}\n",
            "3456789012\n"
          ]
        }
      ],
      "source": [
        "d={}  # Creating a dictionary\n",
        "# Dictionary consists of key-value pair\n",
        "d['a']=1234567890 # assigning a value in dictionary\n",
        "d['b']=2345678901\n",
        "d['c']=3456789012\n",
        "print(d)\n",
        "#d[0]  # throws an error because 0 is not present in dictionary\n",
        "print(d['c']) # Accessing the value of c\n",
        "# d['c'] here c is key and output gives value of c"
      ]
    },
    {
      "cell_type": "code",
      "execution_count": null,
      "metadata": {
        "id": "ZYkczcGgUpMg",
        "outputId": "b3f08934-4c56-4041-f77e-63db14cafe2d",
        "colab": {
          "base_uri": "https://localhost:8080/"
        }
      },
      "outputs": [
        {
          "output_type": "stream",
          "name": "stdout",
          "text": [
            "['It', 'was', 'a', 'Monday', 'morning', 'Swaminathan', 'was', 'reluctant', 'to', 'open', 'his', 'eyes', 'he', 'considered', 'Monday', 'specially', 'unpleasant', 'in', 'the', 'calendar', 'After', 'the', 'delicious', 'freedom', 'of', 'Saturday', 'and', 'Sunday', 'it', 'was', 'difficult', 'to', 'get', 'into', 'Monday', 'mood', 'of', 'work', 'and', 'discipline', 'He', 'shuddered', 'at', 'the', 'very', 'thought', 'of', 'school', 'dismal', 'yellow', 'building', 'the', 'fire', 'eyed', 'Vedanayagam', 'his', 'class', 'teacher', 'and', 'headmaster', 'with', 'his', 'thin', 'long', 'cane']\n",
            "{'building', 'unpleasant', 'a', 'fire', 'dismal', 'he', 'It', 'at', 'Vedanayagam', 'get', 'teacher', 'calendar', 'eyes', 'After', 'cane', 'reluctant', 'delicious', 'thought', 'his', 'it', 'eyed', 'and', 'long', 'freedom', 'work', 'shuddered', 'Monday', 'in', 'the', 'was', 'with', 'Swaminathan', 'Saturday', 'open', 'yellow', 'Sunday', 'into', 'headmaster', 'to', 'considered', 'morning', 'specially', 'very', 'He', 'class', 'difficult', 'discipline', 'thin', 'school', 'of', 'mood'}\n",
            "{'building': 0, 'unpleasant': 0, 'a': 0, 'fire': 0, 'dismal': 0, 'he': 0, 'It': 0, 'at': 0, 'Vedanayagam': 0, 'get': 0, 'teacher': 0, 'calendar': 0, 'eyes': 0, 'After': 0, 'cane': 0, 'reluctant': 0, 'delicious': 0, 'thought': 0, 'his': 0, 'it': 0, 'eyed': 0, 'and': 0, 'long': 0, 'freedom': 0, 'work': 0, 'shuddered': 0, 'Monday': 0, 'in': 0, 'the': 0, 'was': 0, 'with': 0, 'Swaminathan': 0, 'Saturday': 0, 'open': 0, 'yellow': 0, 'Sunday': 0, 'into': 0, 'headmaster': 0, 'to': 0, 'considered': 0, 'morning': 0, 'specially': 0, 'very': 0, 'He': 0, 'class': 0, 'difficult': 0, 'discipline': 0, 'thin': 0, 'school': 0, 'of': 0, 'mood': 0}\n",
            "{'building': 1, 'unpleasant': 1, 'a': 1, 'fire': 1, 'dismal': 1, 'he': 1, 'It': 1, 'at': 1, 'Vedanayagam': 1, 'get': 1, 'teacher': 1, 'calendar': 1, 'eyes': 1, 'After': 1, 'cane': 1, 'reluctant': 1, 'delicious': 1, 'thought': 1, 'his': 3, 'it': 1, 'eyed': 1, 'and': 3, 'long': 1, 'freedom': 1, 'work': 1, 'shuddered': 1, 'Monday': 3, 'in': 1, 'the': 4, 'was': 3, 'with': 1, 'Swaminathan': 1, 'Saturday': 1, 'open': 1, 'yellow': 1, 'Sunday': 1, 'into': 1, 'headmaster': 1, 'to': 2, 'considered': 1, 'morning': 1, 'specially': 1, 'very': 1, 'He': 1, 'class': 1, 'difficult': 1, 'discipline': 1, 'thin': 1, 'school': 1, 'of': 3, 'mood': 1}\n",
            "4\n",
            "the\n"
          ]
        }
      ],
      "source": [
        "malgudi=['It','was','a','Monday','morning','Swaminathan','was','reluctant','to',\n",
        "         'open','his','eyes','he','considered','Monday','specially','unpleasant',\n",
        "         'in','the','calendar','After','the','delicious','freedom','of','Saturday',\n",
        "         'and','Sunday','it','was','difficult','to','get','into','Monday','mood',\n",
        "         'of','work','and','discipline','He','shuddered','at','the','very','thought',\n",
        "         'of','school','dismal','yellow','building','the','fire','eyed','Vedanayagam',\n",
        "         'his','class','teacher','and','headmaster','with','his','thin','long','cane']\n",
        "\n",
        "print(malgudi)\n",
        "s=set(malgudi)\n",
        "print(s)\n",
        "\n",
        "d={}\n",
        "for x in s:\n",
        "  d[x]=0\n",
        "\n",
        "print(d)\n",
        "d['was']\n",
        "\n",
        "max=0\n",
        "for x in malgudi:\n",
        "  d[x]=d[x]+1\n",
        "  if(d[x]>max):\n",
        "    max=d[x]\n",
        "    answer_word=x\n",
        "\n",
        "print(d)\n",
        "print(max)\n",
        "print(answer_word)"
      ]
    },
    {
      "cell_type": "code",
      "execution_count": null,
      "metadata": {
        "id": "wq0hzY_BcGes",
        "outputId": "48b27ed5-2d22-4904-bee8-ae46b6da9ae6",
        "colab": {
          "base_uri": "https://localhost:8080/"
        }
      },
      "outputs": [
        {
          "output_type": "stream",
          "name": "stdout",
          "text": [
            "{'sudarshan': [93, 95, 98, 'sudarshan@iitrpr.ac.in'], 'ajit': [78, 82, 87, 'ajith@iitrpr.ac.in'], 'supriya': [90, 93, 88, 'supriya@iitrpr.ac.in']}\n"
          ]
        },
        {
          "output_type": "execute_result",
          "data": {
            "text/plain": [
              "'ajith@iitrpr.ac.in'"
            ],
            "application/vnd.google.colaboratory.intrinsic+json": {
              "type": "string"
            }
          },
          "metadata": {},
          "execution_count": 5
        }
      ],
      "source": [
        "d={}\n",
        "d['sudarshan']=[93,95,98,'sudarshan@iitrpr.ac.in']\n",
        "d['ajit']=[78,82,87,'ajith@iitrpr.ac.in']\n",
        "d['supriya']=[90,93,88,'supriya@iitrpr.ac.in']\n",
        "print(d)\n",
        "# Here Dictionary contains list inside\n",
        "d['ajit'][3] # Access the key of ajit and the value of l[3]\n"
      ]
    },
    {
      "cell_type": "markdown",
      "metadata": {
        "id": "JS953K1tdjjN"
      },
      "source": [
        "Tuples"
      ]
    },
    {
      "cell_type": "code",
      "execution_count": null,
      "metadata": {
        "id": "5Sh7S62Idmw3",
        "outputId": "56cd01c7-ff9b-4f1e-f1aa-7e81107fe524",
        "colab": {
          "base_uri": "https://localhost:8080/"
        }
      },
      "outputs": [
        {
          "output_type": "stream",
          "name": "stdout",
          "text": [
            "(1, 2, 4, 71, 8, 93, 44, 6, 3, 63, 23, 5, 46)\n",
            "8\n",
            "(0, 1, 2, 3, 4, 5, 6, 7, 8, 9)\n"
          ]
        }
      ],
      "source": [
        "t=(1,2,4,71,8,93,44,6,3,63,23,5,46)  # Tuple\n",
        "print(t)\n",
        "print(t[4])\n",
        "\n",
        "# Tuples are similar to list\n",
        "# It can not modified but the values can be accessed\n",
        "\n",
        "tup=tuple(range(10))\n",
        "print(tup)"
      ]
    },
    {
      "cell_type": "code",
      "execution_count": null,
      "metadata": {
        "id": "fvTOYUe5gPF8",
        "outputId": "d2826386-083b-497d-fdd1-9e1d60e088b5",
        "colab": {
          "base_uri": "https://localhost:8080/"
        }
      },
      "outputs": [
        {
          "output_type": "stream",
          "name": "stdout",
          "text": [
            "abcdefghijklmnopqrstuvwxyzABCDEFGHIJKLMNOPQRSTUVWXYZ\n",
            "{'X', 'i', 'a', 'v', 'H', 'E', 'm', 'Z', 'd', 'e', 'R', 'q', 'A', 'C', 'p', 'c', 'T', 'f', 'j', 'W', 'g', 'F', 'n', 'k', 's', 'w', 'h', 'I', 'O', 'U', 'r', 'V', 'o', 'l', 'J', 'G', 'D', 'Q', 'Y', 'x', 'u', 'y', 'P', 'z', 'S', 'M', 'L', 'N', 'b', 't', 'K', 'B'}\n",
            "{'X', 'i', 'a', 'v', 'H', 'E', 'm', 'Z', 'd', 'e', 'R', 'q', 'A', 'C', 'p', 'c', 'T', 'f', 'j', 'W', 'g', 'F', 'n', 'k', 's', 'w', 'h', 'I', 'O', 'U', 'r', 'V', 'o', 'l', 'J', 'G', 'D', 'Q', 'Y', 'x', 'u', 'y', 'P', 'z', 'S', 'M', 'L', 'N', 'b', 't', 'K', 'B'}\n",
            "('X', 'i', 'a', 'v', 'H', 'E', 'm', 'Z', 'd', 'e', 'R', 'q', 'A', 'C', 'p', 'c', 'T', 'f', 'j', 'W', 'g', 'F', 'n', 'k', 's', 'w', 'h', 'I', 'O', 'U', 'r', 'V', 'o', 'l', 'J', 'G', 'D', 'Q', 'Y', 'x', 'u', 'y', 'P', 'z', 'S', 'M', 'L', 'N', 'b', 't', 'K', 'B')\n",
            "['h', 'u', 'd', 'v', 'u', 'd', 'u', 'h', 'i', 'd', 'h', 'Y', 'f', 'u', 'h', 'd', 's', 'o', 'u', 'f', 'b', 'h', 'd', 'u', 's', 'h']\n"
          ]
        }
      ],
      "source": [
        "import string\n",
        "s=string.ascii_letters\n",
        "# string.ascii.lowercase\n",
        "# string.ascii.uppercase\n",
        "print(s)\n",
        "s=set(s)\n",
        "print(set(s))\n",
        "print(s)\n",
        "\n",
        "alpha=tuple(s)\n",
        "print(alpha)\n",
        "\n",
        "x='hudvu&*^(* duhidh*(Y*7 fuhdsou9&(&fbhdush*(&*)'\n",
        "l=list(x)\n",
        "# print(l)\n",
        "r=[]\n",
        "for p in l:\n",
        "  if p in alpha:\n",
        "    r.append(p)\n",
        "\n",
        "print(r)"
      ]
    },
    {
      "cell_type": "code",
      "execution_count": null,
      "metadata": {
        "id": "Iam8Ulg5jWnU",
        "outputId": "3bc15398-59ec-4a1c-b23b-de9a1fbfbde8",
        "colab": {
          "base_uri": "https://localhost:8080/"
        }
      },
      "outputs": [
        {
          "output_type": "stream",
          "name": "stdout",
          "text": [
            "[0, 1, 2, 3, 4, 5, 6, 7, 8, 9]\n",
            "(0, 1, 2, 3, 4, 5, 6, 7, 8, 9)\n",
            "120\n",
            "104\n"
          ]
        }
      ],
      "source": [
        "l=list(range(10))\n",
        "t=tuple(range(10))\n",
        "print(l)\n",
        "print(t)\n",
        "print(l.__sizeof__()) # gives size of l in bytes\n",
        "print(t.__sizeof__()) # size of tuple is lesser than list\n",
        "\n",
        "# When we have to use the list?\n",
        "# It's better to use the tuple when you know the list that\n",
        "# we are handling and we are sure that it never changes"
      ]
    },
    {
      "cell_type": "markdown",
      "metadata": {
        "id": "mdVPCYugd6MR"
      },
      "source": [
        "More on Lists"
      ]
    },
    {
      "cell_type": "code",
      "execution_count": null,
      "metadata": {
        "id": "h_ULcDU0d8Y4",
        "outputId": "f4dd26c5-42f9-4d6e-b319-b92a50abe9ce",
        "colab": {
          "base_uri": "https://localhost:8080/"
        }
      },
      "outputs": [
        {
          "output_type": "stream",
          "name": "stdout",
          "text": [
            "[1, 2, 3, 10, 20, 30] [10, 20, 30, 1, 2, 3]\n",
            "[2, 3, 1, 2, 3, 1, 2, 3, 1, 2, 3, 1, 2, 3, 1]\n"
          ]
        }
      ],
      "source": [
        "# Adding two list\n",
        "l1=[1,2,3]\n",
        "l2=[10,20,30]\n",
        "l12=l1+l2\n",
        "l21=l2+l1\n",
        "print(l12,l21)\n",
        "\n",
        "# multiply a list\n",
        "l=[2,3,1]*5\n",
        "print(l)"
      ]
    },
    {
      "cell_type": "code",
      "execution_count": null,
      "metadata": {
        "id": "7Wpg9qy6e0r0",
        "outputId": "b5927536-ec39-49d0-e390-32ccb6734846",
        "colab": {
          "base_uri": "https://localhost:8080/"
        }
      },
      "outputs": [
        {
          "output_type": "stream",
          "name": "stdout",
          "text": [
            "True\n",
            "False\n",
            "True\n",
            "False\n",
            "True\n",
            "True\n",
            "[1, 2, 4]\n",
            "[1, 2, 3]\n",
            "e\n"
          ]
        }
      ],
      "source": [
        "# Checking the equality of list\n",
        "l1=[1,2,3]\n",
        "l2=[1,2,3]\n",
        "l3=[1,3,2]\n",
        "print(l1==l2)\n",
        "print(l2==l3) # l2 compares with l3 with all positions\n",
        "\n",
        "# Comparing the list\n",
        "print([1,2]<[2,1]) # compares the 1st element in both list\n",
        "print([1]<[-1,2,3]) # if same compares next element\n",
        "print([2,3]<[3])\n",
        "print([]<[1])\n",
        "\n",
        "# Upadate a list in position\n",
        "l=[1,2,4]\n",
        "print(l)\n",
        "l[2]=3    # list is mutable\n",
        "print(l)\n",
        "\n",
        "s='abce'\n",
        "print(s[3])\n",
        "# s[3]='d'  # throws an error because string is immutable"
      ]
    },
    {
      "cell_type": "code",
      "execution_count": null,
      "metadata": {
        "id": "xVRUXGh2iDSa",
        "outputId": "cd27bccf-6dea-419e-b58e-9238b43a90e8",
        "colab": {
          "base_uri": "https://localhost:8080/"
        }
      },
      "outputs": [
        {
          "output_type": "stream",
          "name": "stdout",
          "text": [
            "10 5\n",
            "[100, 2, 3] [100, 2, 3]\n"
          ]
        }
      ],
      "source": [
        "x=5    # creates new memory location and assign x=5\n",
        "y=x    # creates another new memory location and assigns y=x\n",
        "x=10\n",
        "print(x,y)\n",
        "\n",
        "l1=[1,2,3]  # Creates a memory assigns l=[1,2,3]\n",
        "l2=l1   # But,here it does creates a memory l2 stores in same memory of l1\n",
        "l1[0]=100   # therefore,it modifies in both the list\n",
        "print(l1,l2)"
      ]
    },
    {
      "cell_type": "code",
      "execution_count": null,
      "metadata": {
        "id": "haFqB93Cjed9",
        "outputId": "bc522f45-3653-4762-ac9a-5069899af6d2",
        "colab": {
          "base_uri": "https://localhost:8080/"
        }
      },
      "outputs": [
        {
          "output_type": "stream",
          "name": "stdout",
          "text": [
            "[5, 2, 3]\n",
            "[100, 2, 3]\n",
            "[1, 2, 200]\n",
            "[1, 7, 3]\n",
            "[5, 2, 3]\n",
            "False\n",
            "False\n",
            "False\n",
            "True\n"
          ]
        }
      ],
      "source": [
        "l1=[1,2,3]\n",
        "l2=list(l1)\n",
        "l3=l1[:]       # l2,l3,l4 creates a new memory location\n",
        "l4=l1.copy()\n",
        "l5=l1\n",
        "\n",
        "l2[0]=100\n",
        "l3[2]=200\n",
        "l4[1]=7\n",
        "l5[0]=5\n",
        "print(l1)\n",
        "print(l2)\n",
        "print(l3)\n",
        "print(l4)\n",
        "print(l5)\n",
        "# To check whether the list creates new memory location\n",
        "print(l1 is l2)\n",
        "print(l1 is l3)\n",
        "print(l1 is l4)\n",
        "print(l1 is l5)"
      ]
    },
    {
      "cell_type": "code",
      "execution_count": null,
      "metadata": {
        "id": "3DPoxcLrlEoi",
        "outputId": "a9a5077d-e7e8-4d96-dc43-7a03f15c71f7",
        "colab": {
          "base_uri": "https://localhost:8080/"
        }
      },
      "outputs": [
        {
          "output_type": "stream",
          "name": "stdout",
          "text": [
            "6\n",
            "5\n"
          ]
        }
      ],
      "source": [
        "def add(x):\n",
        "  x=x+1\n",
        "  return x\n",
        "\n",
        "x=5\n",
        "print(add(5))\n",
        "print(x)"
      ]
    },
    {
      "cell_type": "code",
      "execution_count": null,
      "metadata": {
        "id": "XtsHkIyjl0BM",
        "outputId": "08505710-f9e7-42ae-89fb-484bf27d793c",
        "colab": {
          "base_uri": "https://localhost:8080/"
        }
      },
      "outputs": [
        {
          "output_type": "stream",
          "name": "stdout",
          "text": [
            "[5, 1]\n",
            "[5, 1]\n"
          ]
        }
      ],
      "source": [
        "def add(x):\n",
        "  x.append(1)\n",
        "  return x\n",
        "\n",
        "x=[5]\n",
        "print(add(x))\n",
        "print(x)\n",
        "\n",
        "# you can see a difference previous cell and this cell.It is because of\n",
        "# Reference - are mutable type Eg. lists\n",
        "# Value - are immutable type  Eg. strings,integer"
      ]
    },
    {
      "cell_type": "code",
      "execution_count": null,
      "metadata": {
        "id": "eih6tKRJmzol",
        "outputId": "1f799d7e-42a2-43fc-e3fb-2fe9f429501b",
        "colab": {
          "base_uri": "https://localhost:8080/"
        }
      },
      "outputs": [
        {
          "output_type": "stream",
          "name": "stdout",
          "text": [
            "[1, 2, 3]\n",
            "[1, 2, 3, 4]\n",
            "[1, 2, 9, 3, 4]\n",
            "[1, 9, 3, 4]\n",
            "[9, 3, 4]\n"
          ]
        }
      ],
      "source": [
        "# list methods\n",
        "l=[1,2,3]\n",
        "print(l)\n",
        "\n",
        "l.append(4)\n",
        "print(l)\n",
        "\n",
        "l.insert(2,9) # insert the value 9 in l[2] position\n",
        "print(l)\n",
        "\n",
        "l.remove(2) # removes the element 2\n",
        "print(l)\n",
        "\n",
        "l.pop(0) # removes the element which is in 0th position\n",
        "print(l)"
      ]
    },
    {
      "cell_type": "code",
      "execution_count": null,
      "metadata": {
        "id": "-p-VHhKrqVsd",
        "outputId": "c6d044a5-11bc-4ed6-9ecf-3c1d9f2f4047",
        "colab": {
          "base_uri": "https://localhost:8080/"
        }
      },
      "outputs": [
        {
          "output_type": "stream",
          "name": "stdout",
          "text": [
            "[1, 2, 3, 5, 6, 7, 50]\n",
            "[50, 7, 6, 5, 3, 2, 1]\n"
          ]
        }
      ],
      "source": [
        "l=[2,6,1,50,3,7,5]\n",
        "l.sort() # sorts the list in ascending order\n",
        "print(l)\n",
        "\n",
        "l.reverse() # reverses the list\n",
        "print(l)"
      ]
    },
    {
      "cell_type": "markdown",
      "metadata": {
        "id": "9_YSHol3lzGS"
      },
      "source": [
        "More on Tuples"
      ]
    },
    {
      "cell_type": "code",
      "execution_count": null,
      "metadata": {
        "id": "fXU8L3N3rTlR",
        "outputId": "b935ef5e-79bb-451b-c58d-0238b3ede154",
        "colab": {
          "base_uri": "https://localhost:8080/"
        }
      },
      "outputs": [
        {
          "output_type": "stream",
          "name": "stdout",
          "text": [
            "(1, 2, 5) <class 'tuple'>\n",
            "1 2 5\n"
          ]
        }
      ],
      "source": [
        "t=1,2,5  # packs the integer value into tuples\n",
        "print(t,type(t))\n",
        "\n",
        "x,y,z=t  # unpacks th tuple into integer value\n",
        "print(x,y,z)"
      ]
    },
    {
      "cell_type": "code",
      "execution_count": null,
      "metadata": {
        "id": "huKwrHt0tK9e",
        "outputId": "0161c634-381b-4241-a8ce-f478158eadd6",
        "colab": {
          "base_uri": "https://localhost:8080/"
        }
      },
      "outputs": [
        {
          "output_type": "stream",
          "name": "stdout",
          "text": [
            "10 <class 'int'>\n",
            "(10,) <class 'tuple'>\n"
          ]
        }
      ],
      "source": [
        "t=(10)  # considers as integers because whenever we single value inside ()\n",
        "print(t,type(t))\n",
        "\n",
        "s=(10,)\n",
        "print(s,type(s))"
      ]
    },
    {
      "cell_type": "code",
      "execution_count": null,
      "metadata": {
        "id": "CV9_mriytqMz",
        "outputId": "892fdab5-b17b-4cdd-f892-23ec33d9af52",
        "colab": {
          "base_uri": "https://localhost:8080/"
        }
      },
      "outputs": [
        {
          "output_type": "stream",
          "name": "stdout",
          "text": [
            "([[10, 20], 2], ['a', 'b'])\n"
          ]
        }
      ],
      "source": [
        "# Hashable\n",
        "# We cannot modify tuple\n",
        "# If tuple has list inside then it is mutable\n",
        "t=([1,2],['a','b'])\n",
        "t[0][0]=[10,20]\n",
        "print(t)"
      ]
    },
    {
      "cell_type": "markdown",
      "metadata": {
        "id": "6byvV2zRueb3"
      },
      "source": [
        "More on Dictionaries"
      ]
    },
    {
      "cell_type": "markdown",
      "metadata": {
        "id": "mZC2b1rjPr5u"
      },
      "source": [
        "`d={'key':'value'}`\n",
        "\n",
        "- In Dictionary, every key should be unique\n",
        "- list cannot be used as key\n",
        "- tuple can be used as key if it is immutable\n",
        "- But, tuple cannot be used as key if it has list inside because it is mutable in this condition\n",
        "- Values can be duplicate of some other keys\n",
        "- Value can be any data type\n"
      ]
    },
    {
      "cell_type": "code",
      "execution_count": null,
      "metadata": {
        "id": "yiT1chb-umHG",
        "outputId": "a429f947-42ad-406f-b352-d5914c350f2d",
        "colab": {
          "base_uri": "https://localhost:8080/"
        }
      },
      "outputs": [
        {
          "output_type": "stream",
          "name": "stdout",
          "text": [
            "{0: 0, 1: 1, 2: 4, 3: 9, 4: 16, 5: 25}\n",
            "0 0\n",
            "1 1\n",
            "2 4\n",
            "3 9\n",
            "4 16\n",
            "5 25\n",
            "dict_keys([0, 1, 2, 3, 4, 5])\n",
            "dict_values([0, 1, 4, 9, 16, 25])\n",
            "dict_items([(0, 0), (1, 1), (2, 4), (3, 9), (4, 16), (5, 25)])\n"
          ]
        }
      ],
      "source": [
        "d={0:0,1:1,2:4,3:9,4:16,5:25}\n",
        "print(d)\n",
        "\n",
        "# Iteration in Dictionary\n",
        "for key in d:\n",
        "  print(key,d[key]) # Values of key can be by d[key]\n",
        "\n",
        "print(d.keys())  # list of all the keys\n",
        "print(d.values()) # list of all values\n",
        "print(d.items())  # list of tuples with (key,value)"
      ]
    },
    {
      "cell_type": "markdown",
      "metadata": {
        "id": "z0i4YF1Jujii"
      },
      "source": [
        "More on Sets"
      ]
    },
    {
      "cell_type": "code",
      "execution_count": null,
      "metadata": {
        "id": "kErG98Bkum0Q",
        "outputId": "f2b5e8f0-c596-4ecf-efd9-cfdc6163770e",
        "colab": {
          "base_uri": "https://localhost:8080/"
        }
      },
      "outputs": [
        {
          "output_type": "stream",
          "name": "stdout",
          "text": [
            "True\n",
            "False\n"
          ]
        }
      ],
      "source": [
        "# Set is collection of all values\n",
        "# Set is not subscriptable and does not contain repitetive values\n",
        "\n",
        "A={1,3,5}\n",
        "B={1,2,3,4,5}\n",
        "print(A.issubset(B))\n",
        "print(A.issuperset(B))"
      ]
    },
    {
      "cell_type": "code",
      "execution_count": null,
      "metadata": {
        "id": "zjcnDvMzyOdc",
        "outputId": "9159bec5-0cd0-404a-e842-3cc2defce109",
        "colab": {
          "base_uri": "https://localhost:8080/"
        }
      },
      "outputs": [
        {
          "output_type": "stream",
          "name": "stdout",
          "text": [
            "{1, 2, 3, 4, 5} {1, 2, 3, 4, 5}\n"
          ]
        }
      ],
      "source": [
        "A={1,2,3}\n",
        "B={3,4,5}\n",
        "C1=A.union(B) # using the set method\n",
        "C2=A|B        # using the operator\n",
        "print(C1,C2)\n",
        "\n",
        "# C1=A.intersection(B) # C2=A & B\n",
        "# C1=A.difference(B) # C2=A - B"
      ]
    },
    {
      "cell_type": "markdown",
      "metadata": {
        "id": "GgK0CjHOoFcu"
      },
      "source": [
        "# WEEK - 7 Refresher week"
      ]
    },
    {
      "cell_type": "markdown",
      "metadata": {
        "id": "uNEbdifRzYOe"
      },
      "source": [
        "# WEEK-8"
      ]
    },
    {
      "cell_type": "markdown",
      "metadata": {
        "id": "yAL642cWLyiN"
      },
      "source": [
        "Introduction to Recursion\n",
        "- Recursion is the process doing the same step again and again to complete the whole task"
      ]
    },
    {
      "cell_type": "markdown",
      "metadata": {
        "id": "2ekERdkDOM7Q"
      },
      "source": [
        "Recursion: Find 0 in a list"
      ]
    },
    {
      "cell_type": "code",
      "execution_count": null,
      "metadata": {
        "id": "KGnpZTihOSOH"
      },
      "outputs": [],
      "source": [
        "def check0(l):\n",
        "  if(len(l)==0):\n",
        "    return False\n",
        "  elif(l[0]==0):\n",
        "    return True\n",
        "  else:\n",
        "    return check0(l[1:len(l)])  # outsources the list\n",
        "\n",
        "ans=check0([6])\n",
        "print(ans)"
      ]
    },
    {
      "cell_type": "markdown",
      "metadata": {
        "id": "oK4C0ZelQLsC"
      },
      "source": [
        "Sorting Recursively"
      ]
    },
    {
      "cell_type": "code",
      "execution_count": null,
      "metadata": {
        "id": "_68sfRdmOTc1"
      },
      "outputs": [],
      "source": [
        "def min(l):\n",
        "  min=l[0]\n",
        "  for x in l:\n",
        "    if (x<min):\n",
        "      min=x\n",
        "  return min\n",
        "\n",
        "def sort(l):\n",
        "  if(len(l)==0) or (len(l)==1):\n",
        "    return l\n",
        "  else:\n",
        "    m=min(l)\n",
        "    l.remove(m)\n",
        "    return [m]+sort(l)\n",
        "\n",
        "l=[5,3]\n",
        "print(sort(l))"
      ]
    },
    {
      "cell_type": "markdown",
      "metadata": {
        "id": "rod-ZkCcTapV"
      },
      "source": [
        "Warm up for Binary Search"
      ]
    },
    {
      "cell_type": "code",
      "execution_count": null,
      "metadata": {
        "id": "bfbPoLoxT19U"
      },
      "outputs": [],
      "source": [
        "import time\n",
        "\n",
        "def sum(n):\n",
        "  ans=0\n",
        "  for i in range(n+1):\n",
        "    ans=ans+i\n",
        "  return ans\n",
        "\n",
        "print(\"first command\");print(sum(10));print('last command')\n",
        "# ; semicolon separates print statement and gives output in next line\n",
        "\n",
        "a=time.time();print(f'\\n{sum(99)}');b=time.time();print(b-a)\n",
        "# a is the time before executing print(sum(1000))\n",
        "# b is the time after executing print(sum(1000))\n",
        "# b-a is the time taken to compute sum(1000)"
      ]
    },
    {
      "cell_type": "code",
      "execution_count": null,
      "metadata": {
        "id": "SoUPnPprXQVl"
      },
      "outputs": [],
      "source": [
        "def obvious_search(l,k):\n",
        "  for x in l:\n",
        "    if(x==k):\n",
        "      return 1\n",
        "  return 0\n",
        "\n",
        "l=list(range(10000000))\n",
        "a=time.time();print(obvious_search(l,9999999));b=time.time();print(f'Time for executing is {b-a}')"
      ]
    },
    {
      "cell_type": "markdown",
      "metadata": {
        "id": "PWT0-b6mZzuM"
      },
      "source": [
        "Binary search Implementation"
      ]
    },
    {
      "cell_type": "code",
      "execution_count": null,
      "metadata": {
        "id": "oQKssx9BZ_mL"
      },
      "outputs": [],
      "source": [
        "# Binary search won't work for unsorted list\n",
        "'''\n",
        "binary_search function is an alternative for the obvious_search.\n",
        "It does exactly what is expected from the obvious_seach,but in an\n",
        "efficient way.This method is popularly called the\n",
        "Binary search.\n",
        "'''\n",
        "\n",
        "def binary_search(l,k):\n",
        " begin=0       # 1st element of list\n",
        " end=len(l)-1  # last element of list\n",
        " # Use the while loop to look at the list and keep halving it.\n",
        " while(end-begin>1):\n",
        "   mid=(begin+end)//2  # middle element of the list\n",
        "   if (l[mid]==k):\n",
        "     return 1\n",
        "   # if the middle element is greater than k,then cut the right side\n",
        "   # and retain the left side\n",
        "   if(l[mid]>k):\n",
        "     end=mid-1\n",
        "   # if the middle element is lesser than k,then cut the left side\n",
        "   # and retain the right side\n",
        "   if(l[mid]<k):\n",
        "     begin=mid+1\n",
        "\n",
        " #This is outside the while loop.If we are here,it means that haven't\n",
        " #found the element\n",
        " # It means end-begin is less than or equal to 1.\n",
        "\n",
        " # if it is equal to 1,then there is exatly two elements\n",
        " if(l[begin]==k) or (l[end]==k):\n",
        "  return 1\n",
        " else:\n",
        "   return 0\n",
        "\n",
        "l=list(range(10000000))\n",
        "b=binary_search(l,9999999)\n",
        "a=time.time();print(b);b=time.time();print(f'Time for executing is {b-a}')\n",
        "\n",
        "# You can see a clear time differnce between the execution of\n",
        "# binary_search and obvious_search function\n",
        "# Binary search is faster to search a value in the list"
      ]
    },
    {
      "cell_type": "markdown",
      "metadata": {
        "id": "j2QuYFqnnECD"
      },
      "source": [
        "Binary search Recursion way"
      ]
    },
    {
      "cell_type": "code",
      "execution_count": null,
      "metadata": {
        "id": "bObUDcB4nPjS"
      },
      "outputs": [],
      "source": [
        "def rbinarysearch(l,k,begin,end):\n",
        "  if(begin==end):\n",
        "    if(l[begin]==k):\n",
        "      return 1\n",
        "    else:\n",
        "      return 0\n",
        "  if (end-begin==1):\n",
        "    if(l[begin]==k) or (l[end]==k):\n",
        "      return 1\n",
        "    else:\n",
        "      return 0\n",
        "  if (end-begin>1):\n",
        "    mid=(begin+end)//2\n",
        "    if (l[mid]>k):\n",
        "      end=mid-1\n",
        "    if(l[mid]<k):\n",
        "      begin=mid+1\n",
        "    if(l[mid]==k):\n",
        "      return 1\n",
        "  if(end-begin<0):\n",
        "    return 0\n",
        "\n",
        "  return rbinarysearch(l,k,begin,end)\n",
        "\n",
        "\n",
        "l=list(range(1000000))\n",
        "rbinarysearch(l,5,1,len(l)-1)"
      ]
    },
    {
      "cell_type": "code",
      "execution_count": null,
      "metadata": {
        "id": "SqKZyvweaRKG"
      },
      "outputs": [],
      "source": [
        "def sum(n):\n",
        "  if (n==0):\n",
        "    return 0\n",
        "  else:\n",
        "    return (n+sum(n-1))\n",
        "\n",
        "# sum(1000) # Recursion Error for sum(1000)\n",
        "# In Python,Recursion has limit upto 999\n",
        "# But,you can change it using a function in sys"
      ]
    },
    {
      "cell_type": "code",
      "execution_count": null,
      "metadata": {
        "id": "YV-43VIzPr56"
      },
      "outputs": [],
      "source": [
        "import sys\n",
        "sys.setrecursionlimit(2**31 - 1) # Python's Maximum recursion limit"
      ]
    },
    {
      "cell_type": "markdown",
      "metadata": {
        "id": "BktSjiPKjKlL"
      },
      "source": [
        "# WEEK-9\n",
        "* Some codes may throw error because of non-availabilty of that files"
      ]
    },
    {
      "cell_type": "markdown",
      "metadata": {
        "id": "ovrS6LQR8en2"
      },
      "source": [
        "Reading and Writing to a File"
      ]
    },
    {
      "cell_type": "code",
      "execution_count": null,
      "metadata": {
        "id": "I1CeXwTyjNKW",
        "colab": {
          "base_uri": "https://localhost:8080/"
        },
        "outputId": "86ae307d-da2f-4bcf-da19-edb52db786fc"
      },
      "outputs": [
        {
          "output_type": "stream",
          "name": "stdout",
          "text": [
            "/content\n"
          ]
        }
      ],
      "source": [
        "!pwd\n",
        "!cd # show the current directory\n",
        "f=open('mytext.txt','w') # w stands write a file mytext.txt\n",
        "f.write('Header\\n')\n",
        "f.write('Sudharshan\\n')\n",
        "f.write('yourname\\n')\n",
        "f.write('IITM\\n')\n",
        "f.write('Python')\n",
        "f.close()"
      ]
    },
    {
      "cell_type": "code",
      "source": [
        "f = f=open('mytext.txt','r')\n",
        "line = f.readline()\n",
        "print(line)"
      ],
      "metadata": {
        "id": "KcIQIA8Zlxsb"
      },
      "execution_count": null,
      "outputs": []
    },
    {
      "cell_type": "code",
      "source": [
        "f = f=open('mytext.txt','r')\n",
        "\n",
        "header = f.readline()\n",
        "\n",
        "for line in f:\n",
        "  print(line)\n",
        "\n",
        "# line1 = f.readline().strip()\n",
        "# line2 = f.readline().strip()\n",
        "# print(line1, line2)"
      ],
      "metadata": {
        "id": "WtZ5oS-El5Kg",
        "colab": {
          "base_uri": "https://localhost:8080/"
        },
        "outputId": "fd8d03f2-653d-4ea9-a765-9f699a325666"
      },
      "execution_count": null,
      "outputs": [
        {
          "output_type": "stream",
          "name": "stdout",
          "text": [
            "Sudharshan\n",
            "\n",
            "yourname\n",
            "\n",
            "IITM\n",
            "\n",
            "Python\n"
          ]
        }
      ]
    },
    {
      "cell_type": "code",
      "execution_count": null,
      "metadata": {
        "id": "yy81FMEnBIKZ",
        "colab": {
          "base_uri": "https://localhost:8080/"
        },
        "outputId": "24eaa5be-eed1-4b65-947d-afa6c8f793ee"
      },
      "outputs": [
        {
          "output_type": "stream",
          "name": "stdout",
          "text": [
            "Header\n",
            "Sudharshan\n",
            "yourname\n",
            "IITM\n",
            "Python\n",
            "<class 'str'>\n"
          ]
        }
      ],
      "source": [
        "x=open('mytext.txt','r') # r stands for read a file, thera is a file already\n",
        "s=x.read()\n",
        "print(s)\n",
        "print(type(s))\n",
        "x.close() # After closing a file it can't do any operations further"
      ]
    },
    {
      "cell_type": "code",
      "execution_count": null,
      "metadata": {
        "id": "YI8eQc1MCErh"
      },
      "outputs": [],
      "source": [
        "f=open('newfile.txt','w')\n",
        "f.write('This is the first line')\n",
        "f.write('\\nThis is the second line')\n",
        "f.close()"
      ]
    },
    {
      "cell_type": "code",
      "execution_count": null,
      "metadata": {
        "id": "N2xup6StC05B"
      },
      "outputs": [],
      "source": [
        "f=open('newfile.txt','a')\n",
        "# a stands for append, appends a new line in a file which already exists\n",
        "f.write('\\n1st')\n",
        "f.write('\\n2nd')\n",
        "f.close()"
      ]
    },
    {
      "cell_type": "markdown",
      "metadata": {
        "id": "x3Er20GjE709"
      },
      "source": [
        "Big text file handling"
      ]
    },
    {
      "cell_type": "code",
      "execution_count": null,
      "metadata": {
        "id": "uAiAVVeiEO_i"
      },
      "outputs": [],
      "source": [
        "f=open('newfile.txt','r')\n",
        "flag=True\n",
        "s='0'\n",
        "while(s!=''):  # s=='' means file is empty\n",
        "  s=f.readline() # reads a entire line in a file\n",
        "  if(s!=''):\n",
        "    n=int(s)\n",
        "    if(n==9363075726):\n",
        "      print(\"The number was found\")\n",
        "      flag=False\n",
        "      break\n",
        "if(flag):\n",
        "  print(\"The number was not found\")"
      ]
    },
    {
      "cell_type": "markdown",
      "metadata": {
        "id": "DwzUhFO_JeEU"
      },
      "source": [
        "Very big files a tip"
      ]
    },
    {
      "cell_type": "code",
      "execution_count": null,
      "metadata": {
        "id": "Tj5rM__mpfYY"
      },
      "outputs": [],
      "source": [
        "# Notice the differnce between f.readline() and f.readlines()\n",
        "# f.readline() reads a line store it as string\n",
        "# f.readlines() reads all the line in file stores it as list where each element of list is line of file as string\n",
        "\n",
        "f = open('writing.txt', 'w')\n",
        "f.write(str(1)) # write argument always takes a string\n",
        "f.close()\n",
        "\n",
        "f = open('writing.txt', 'w')\n",
        "lines = ['1', '2', '3', '4', '5']\n",
        "f.writelines(lines) # f.writelines writes a file in a line\n",
        "f.close()"
      ]
    },
    {
      "cell_type": "code",
      "execution_count": null,
      "metadata": {
        "id": "Sngg3nx5JnFt"
      },
      "outputs": [],
      "source": [
        "'''\n",
        "f=open('phone_large.txt','r')\n",
        "f.readline() # reads a line\n",
        "\n",
        "for i in range(1000):\n",
        "  s=f.readline()\n",
        "  print(s)\n",
        "'''"
      ]
    },
    {
      "cell_type": "markdown",
      "metadata": {
        "id": "E0Wy7KfTKd1x"
      },
      "source": [
        "Caesar Cipher"
      ]
    },
    {
      "cell_type": "code",
      "execution_count": null,
      "metadata": {
        "id": "By7YMquyKhlz"
      },
      "outputs": [],
      "source": [
        "'''This programs considers an input file and encryts it by using\n",
        "caesar cipher.By that mean, we shift the letters by 3 units.For\n",
        "example, a becomes d, b - e, ...., w - z, x - a, y - b and z becomes c'''\n",
        "\n",
        "import string\n",
        "\n",
        "l=['a','b','c','d','e','f','g','h','i','j','k','l','m',\n",
        "   'n','o','p','q','r','s','t','u','v','w','x','y','z']\n",
        "\n",
        "def create_caesar_dictionary():\n",
        "  l=string.ascii_lowercase # converts all characters to lower case\n",
        "  l=list(l)\n",
        "  d={}\n",
        "  for i in range(len(l)):\n",
        "    d[l[i]]=l[(i-3)%26]\n",
        "  return d\n",
        "\n",
        "f=open('newfile.txt','r')\n",
        "g=open('encrypt_newfile','w')\n",
        "d=create_caesar_dictionary()\n",
        "\n",
        "c=f.read(1) # reads 1 character at a time\n",
        "while c!='':\n",
        "  g.write(d[c])\n",
        "  c=f.read(1)\n",
        "\n",
        "f.close()\n",
        "g.close()"
      ]
    },
    {
      "cell_type": "markdown",
      "metadata": {
        "id": "RmPcLVx0P17_"
      },
      "source": [
        "File handling, Genetic sequences"
      ]
    },
    {
      "cell_type": "code",
      "execution_count": null,
      "metadata": {
        "id": "jRYBr_x7P82t"
      },
      "outputs": [],
      "source": [
        "# f.seek(7) # jumps to 7th position of character\n",
        "\n",
        "'''f=open('human.txt','r')\n",
        "seq=f.read()\n",
        "bp='ATCGAACT'\n",
        "print(bp in seq) # checks bp in file or not'''\n",
        "\n",
        "# f.read() reads the whole file at a time # takes lot of time\n",
        "# f.read(2) reads 2 chacters at a time in file # easy to read large file"
      ]
    },
    {
      "cell_type": "markdown",
      "metadata": {
        "id": "z81wiO-MTKE2"
      },
      "source": [
        "Pandas library"
      ]
    },
    {
      "cell_type": "code",
      "execution_count": null,
      "metadata": {
        "id": "CkF_zvOuWOAl"
      },
      "outputs": [],
      "source": [
        "# To find a maximum marks in the dataset\n",
        "# csv stands for comma separated values\n",
        "f=open('table11.csv','r')\n",
        "scores=f.readlines()[1:-1] # Reads column(index-0) to index(-1)\n",
        "max=0\n",
        "for record in scores:\n",
        "  # print(record)\n",
        "  fields=record.split(',')\n",
        "  if(int(fields[1])>max):\n",
        "    max = int(fields[1])\n",
        "\n",
        "print(max)"
      ]
    },
    {
      "cell_type": "code",
      "execution_count": null,
      "metadata": {
        "id": "3yBGlZaWTIuz"
      },
      "outputs": [],
      "source": [
        "import pandas as pd\n",
        "scores=pd.read_csv('scores.csv')\n",
        "print(scores.describe())\n",
        "print(scores['Total'].max())\n",
        "print(scores.shape) # shape gives output of rows and columns in tuples\n",
        "#print(scores.count())\n",
        "print(scores['Total'].min())\n",
        "print(scores['Total'].mean())\n",
        "print(scores['Total'].sum())\n",
        "print(scores['Total'].sort_values())\n",
        "print(scores['Total'].sort_values(ascending = False))"
      ]
    },
    {
      "cell_type": "code",
      "execution_count": null,
      "metadata": {
        "id": "ZvRSXFC4la8_"
      },
      "outputs": [],
      "source": [
        "import pandas as pd\n",
        "scores=pd.read_csv('table11.csv')\n",
        "scores.describe()\n",
        "#print(scores)\n",
        "#print(scores['No. of children chosen for the weight measu-rement as  sample size'].max())\n",
        "#print(scores.shape) # shape gives output of rows and columns in tuples\n",
        "#print(scores.count())\n",
        "#print(scores['No. of children chosen for the weight measu-rement as  sample size'].min())\n",
        "#print(scores['No. of children chosen for the weight measu-rement as  sample size'].mean())\n",
        "#print(scores['No. of children chosen for the weight measu-rement as  sample size'].sum())\n",
        "#print(scores['No. of children chosen for the weight measu-rement as  sample size'].sort_values())\n",
        "#print(scores['No. of children chosen for the weight measu-rement as  sample size'].sort_values(ascending = False))"
      ]
    },
    {
      "cell_type": "markdown",
      "metadata": {
        "id": "nb-auMH5YOQ3"
      },
      "source": [
        "Pandas Series, Dataframe and more"
      ]
    },
    {
      "cell_type": "code",
      "execution_count": null,
      "metadata": {
        "id": "DVfh3bJwYU6P"
      },
      "outputs": [],
      "source": [
        "import pandas as pd\n",
        "scores=pd.read_csv('table11.csv')\n",
        "# dataframe is two dimension tabular structure in the table\n",
        "# any specific column in dataframe is called Series\n",
        "# print(score['Name'],type(score['Name']))\n",
        "# print(scores.head()) # top 5 rows in dataframe\n",
        "# print(scores.tail()) # last 5 rows in dataframe\n",
        "'''\n",
        "print(scores[scores['Name']=='Nisha']) # Reading a data in row wise\n",
        "print(scores[scores['Gender']=='M']['Total'].max()) # gives max total marks of M\n",
        "print(scores[scores['Gender']=='F']['Total'].max())\n",
        "print(scores[scores['Physics']>85].shape[0])\n",
        "# shape[0] gives the total no of values which satifies above condition\n",
        "# gives the number of students above 85\n",
        "'''\n",
        "\n",
        "'''\n",
        "print(scores[scores['Physics'].between(70,85)])\n",
        "print(scores[scores['Physics'].between(60,70)])\n",
        "print(scores[scores['Physics']<60])\n",
        "'''"
      ]
    },
    {
      "cell_type": "code",
      "execution_count": null,
      "metadata": {
        "id": "OrRFE7b_6xMI"
      },
      "outputs": [],
      "source": [
        "print(scores[(scores['Gender']=='F') & (scores['Physics']>85)].shape[0])\n",
        "# No of female student greater than 85 marks in Physics\n",
        "# pandas doesn't support regular `and` operator\n",
        "# they use & operator for and\n",
        "print(scores[(scores['Gender']=='F') & (scores['Physics']>85) & (scores['Chemistry']>85) & (scores['Mathematics']>85)].shape[0])\n",
        "# No of female student greater than 85 marks in Physics, Chemistry and Mathematics\n",
        "\n",
        "subject=['Mathematics','Chemistry','Physics']\n",
        "for sub in subject:\n",
        "  print('Above 85 in', sub)\n",
        "  print(scores[(scores['Gender']=='F') & (scores[sub]>85)].shape[0])\n",
        "  print(scores[(scores['Gender']=='M') & (scores[sub]>85)].shape[0])\n",
        "\n",
        "# No of students above 85 in each subject for boys and girls"
      ]
    },
    {
      "cell_type": "code",
      "execution_count": null,
      "metadata": {
        "id": "DIkGZ_FN9Fmp"
      },
      "outputs": [],
      "source": [
        "subject=['Mathematics','Chemistry','Physics']\n",
        "for sub in subject:\n",
        "  print('Above average', sub)\n",
        "  avg=scores[sub].mean() # assigns a average value\n",
        "  print(scores[(scores['Gender']=='F') & (scores[sub]>avg)].shape[0])\n",
        "  print(scores[(scores['Gender']=='M') & (scores[sub]>avg)].shape[0])\n",
        "\n",
        "# No of students above average in each subject for boys and girls"
      ]
    },
    {
      "cell_type": "code",
      "execution_count": null,
      "metadata": {
        "id": "tcAo6tHA9iWw"
      },
      "outputs": [],
      "source": [
        "print(scores.groupby(\"State/UTs\").groups)\n",
        "# Creates a dictionary with unique keys which is in gender columns\n",
        "# and index are mapped to keys in a list"
      ]
    },
    {
      "cell_type": "code",
      "execution_count": null,
      "metadata": {
        "id": "D-CDZcm4_voL"
      },
      "outputs": [],
      "source": [
        "subject=['Mathematics','Chemistry','Physics']\n",
        "for sub in subject:\n",
        "  print('Above average in ', sub)\n",
        "  avg=scores[sub].mean()\n",
        "  print(scores[scores[sub]>avg].groupby('Gender').groups)\n",
        "\n",
        "# gives a dictionary with unique keys in Gender for each subject\n",
        "# values is list with index numbers"
      ]
    },
    {
      "cell_type": "markdown",
      "metadata": {
        "id": "2UVduHf4Z4gK"
      },
      "source": [
        "# WEEK-10"
      ]
    },
    {
      "cell_type": "markdown",
      "metadata": {
        "id": "__bYxRCRviCm"
      },
      "source": [
        "Classes and Objects"
      ]
    },
    {
      "cell_type": "code",
      "execution_count": null,
      "metadata": {
        "id": "NHrMamOUvlqK",
        "colab": {
          "base_uri": "https://localhost:8080/"
        },
        "outputId": "8b276b0c-8202-411c-bfbf-d697e7744c12"
      },
      "outputs": [
        {
          "output_type": "stream",
          "name": "stdout",
          "text": [
            "0 Bhuvanesh\n",
            "1 None\n",
            "None Harish\n",
            "None None\n"
          ]
        }
      ],
      "source": [
        "class Student:\n",
        "  roll_no=None\n",
        "  name=None\n",
        "\n",
        "s0=Student() # function known as constructor whhich constructs an object\n",
        "s0.roll_no=0 # object.variable or object.function\n",
        "s0.name='Bhuvanesh'\n",
        "print(s0.roll_no,s0.name)\n",
        "\n",
        "s1=Student()\n",
        "s1.roll_no=1\n",
        "print(s1.roll_no,s1.name)\n",
        "\n",
        "s2=Student()\n",
        "s2.name='Harish'\n",
        "print(s2.roll_no,s2.name)\n",
        "\n",
        "s3=Student()\n",
        "print(s3.roll_no,s3.name)"
      ]
    },
    {
      "cell_type": "markdown",
      "metadata": {
        "id": "GV80Xui9uy7o"
      },
      "source": [
        "Attributes and Methods"
      ]
    },
    {
      "cell_type": "code",
      "execution_count": null,
      "metadata": {
        "id": "02e-QfKAu43x"
      },
      "outputs": [],
      "source": [
        "# Any function inside class is called Methods.\n",
        "class Student:\n",
        "  count=0     # class attribute\n",
        "  def __init__(self,roll_no,name,total):   # variable attribute\n",
        "# def __init__ function executes first\n",
        "# self that assigns automatically value to variables that we create\n",
        "    self.roll_no = roll_no\n",
        "    self.name = name\n",
        "    self.total = total\n",
        "\n",
        "  def display(self):\n",
        "    print(self.roll_no,self.name,self.total)\n",
        "\n",
        "  def result(self):\n",
        "    if(self.total>120):\n",
        "      print('Pass')\n",
        "    else:\n",
        "      print('Fail')\n",
        "\n",
        "s0=Student(0,'Bhuvanesh',100)\n",
        "Student.count += 1  # updates the count value\n",
        "s0.display()\n",
        "s0.result()\n",
        "\n",
        "s1=Student(1,'Harish',150)\n",
        "Student.count += 1\n",
        "s1.display()\n",
        "s1.result()\n",
        "\n",
        "print(Student.count)"
      ]
    },
    {
      "cell_type": "markdown",
      "metadata": {
        "id": "Qhgtg_-o0pyz"
      },
      "source": [
        "Inheritance and Method Overriding"
      ]
    },
    {
      "cell_type": "code",
      "execution_count": null,
      "metadata": {
        "id": "YMavO5Rd0zH3",
        "colab": {
          "base_uri": "https://localhost:8080/"
        },
        "outputId": "393f7914-73b0-4015-ded4-48b8fd815a15"
      },
      "outputs": [
        {
          "output_type": "stream",
          "name": "stdout",
          "text": [
            "Rida 20\n",
            "250\n",
            "Harish 20\n",
            "50000\n"
          ]
        }
      ],
      "source": [
        "class Person():  # paranthesis can either be used or not in python\n",
        "  def __init__(self,name,age):\n",
        "    self.name=name\n",
        "    self.age=age\n",
        "\n",
        "  def display(self):\n",
        "    print(self.name,self.age)\n",
        "\n",
        "class Student(Person):  # class Student inherits the properties of class Person\n",
        "  def __init__(self,name,age,total):\n",
        "    super().__init__(name,age) # Executes the init method in parent class\n",
        "    self.total = total\n",
        "\n",
        "  def display(self):\n",
        "    super().display() # Executes the display method in parent class\n",
        "    print(self.total)\n",
        "\n",
        "class Employee(Person):\n",
        "# Employee is sub-class or child class\n",
        "# Person is parent class or super class\n",
        "  def __init__(self, name, age, salary):\n",
        "    super().__init__(name,age)\n",
        "    self.salary = salary\n",
        "\n",
        "  def display(self):\n",
        "    super().display()\n",
        "    print(self.salary)\n",
        "\n",
        "s=Student('Rida', 20, 250)\n",
        "s.display()\n",
        "\n",
        "e=Employee('Harish', 20, 50000)\n",
        "e.display()"
      ]
    },
    {
      "cell_type": "code",
      "execution_count": null,
      "metadata": {
        "id": "3liE3uPGKglC"
      },
      "outputs": [],
      "source": [
        "class Person():  # paranthesis can either be used or not in python\n",
        "  def __init__(self,name,age):\n",
        "    self.name=name\n",
        "    self.__age=age\n",
        "    # private member cannot be accessed by writing __\n",
        "    # without __ underscore it is public\n",
        "  def display(self):\n",
        "    print(self.name,self.age)"
      ]
    },
    {
      "cell_type": "markdown",
      "metadata": {
        "id": "h4YYgGnaB88T"
      },
      "source": [
        "Intriduction to Numpy library\n",
        "\n",
        "*   Numpy: Numerical Python\n",
        "*   ndarray: N - dimensional array"
      ]
    },
    {
      "cell_type": "code",
      "execution_count": null,
      "metadata": {
        "id": "iK6ncstvZ9e-",
        "colab": {
          "base_uri": "https://localhost:8080/"
        },
        "outputId": "8a295ff4-df00-4c40-c6d6-2318c3dd763b"
      },
      "outputs": [
        {
          "output_type": "stream",
          "name": "stdout",
          "text": [
            "42 0 \n",
            "\n",
            "[1 2 3] 1 \n",
            "\n",
            "[[1 2 3]\n",
            " [4 5 6]] 2 \n",
            "\n",
            "[[[ 1  2  3]\n",
            "  [ 4  5  6]]\n",
            "\n",
            " [[10 11 12]\n",
            "  [ 7  8  9]]] 3 \n",
            "\n"
          ]
        }
      ],
      "source": [
        "import numpy as np\n",
        "\n",
        "a=np.array(42)\n",
        "b=np.array([1,2,3])\n",
        "c=np.array([[1,2,3],[4,5,6]])\n",
        "d=np.array([[[1,2,3],[4,5,6]],[[10,11,12],[7,8,9]]])\n",
        "\n",
        "print(a,a.ndim,'\\n')\n",
        "print(b,b.ndim,'\\n')\n",
        "print(c,c.ndim,'\\n')\n",
        "print(d,d.ndim,'\\n')"
      ]
    },
    {
      "cell_type": "markdown",
      "metadata": {
        "id": "BOg9GB0YGH0w"
      },
      "source": [
        "Introduction to Matplotlib library"
      ]
    },
    {
      "cell_type": "code",
      "execution_count": null,
      "metadata": {
        "id": "q9-Gcm3OGPG2",
        "colab": {
          "base_uri": "https://localhost:8080/",
          "height": 430
        },
        "outputId": "2725c494-c56e-48a6-90df-9ef1eb7045c9"
      },
      "outputs": [
        {
          "output_type": "display_data",
          "data": {
            "text/plain": [
              "<Figure size 640x480 with 1 Axes>"
            ],
            "image/png": "[encoded data removed]"
          },
          "metadata": {}
        }
      ],
      "source": [
        "import matplotlib.pyplot as plt\n",
        "import numpy as np\n",
        "\n",
        "x=np.array([1,2,3,4,5,6])\n",
        "y=np.array([1,4,9,16,25,36])\n",
        "\n",
        "plt.scatter(x,y)\n",
        "\n",
        "x=np.array([1,2,3,4,5,6])\n",
        "y=np.array([1,8,27,64,125,36*6])\n",
        "\n",
        "plt.scatter(x,y)\n",
        "\n",
        "plt.show()"
      ]
    },
    {
      "cell_type": "code",
      "execution_count": null,
      "metadata": {
        "id": "enqSdrsWqhv5",
        "colab": {
          "base_uri": "https://localhost:8080/",
          "height": 430
        },
        "outputId": "56961caa-98eb-4fc2-cb3c-7c2457969b2d"
      },
      "outputs": [
        {
          "output_type": "display_data",
          "data": {
            "text/plain": [
              "<Figure size 640x480 with 1 Axes>"
            ],
            "image/png": "[encoded data removed]"
          },
          "metadata": {}
        }
      ],
      "source": [
        "x=np.array(['A','B','C','D'])\n",
        "y=np.array([12,7,15,9])\n",
        "plt.bar(x,y)\n",
        "\n",
        "plt.show()"
      ]
    },
    {
      "cell_type": "code",
      "execution_count": null,
      "metadata": {
        "id": "yXdkINVgrhx_",
        "colab": {
          "base_uri": "https://localhost:8080/",
          "height": 430
        },
        "outputId": "a6d33564-6941-4156-840b-f60c47f97cfc"
      },
      "outputs": [
        {
          "output_type": "display_data",
          "data": {
            "text/plain": [
              "<Figure size 640x480 with 1 Axes>"
            ],
            "image/png": "[encoded data removed]"
          },
          "metadata": {}
        }
      ],
      "source": [
        "x=np.random.normal(170,10,250)\n",
        "plt.hist(x)\n",
        "plt.show()"
      ]
    },
    {
      "cell_type": "code",
      "execution_count": null,
      "metadata": {
        "id": "AGqkw4NXr4rT",
        "colab": {
          "base_uri": "https://localhost:8080/",
          "height": 406
        },
        "outputId": "b14eb2ab-6334-48f5-9c98-2a1915ccea2f"
      },
      "outputs": [
        {
          "output_type": "display_data",
          "data": {
            "text/plain": [
              "<Figure size 640x480 with 1 Axes>"
            ],
            "image/png": "[encoded data removed]"
          },
          "metadata": {}
        }
      ],
      "source": [
        "y=np.array([35,25,25,15])\n",
        "mylabels=['Apples','Bananas','Cherries','Dates']\n",
        "\n",
        "plt.pie(y,labels=mylabels,startangle=90)\n",
        "plt.show()"
      ]
    },
    {
      "cell_type": "code",
      "execution_count": null,
      "metadata": {
        "id": "kcuFwMdBsuEh",
        "colab": {
          "base_uri": "https://localhost:8080/",
          "height": 430
        },
        "outputId": "1bf0e229-b023-498f-db50-fe403af40638"
      },
      "outputs": [
        {
          "output_type": "display_data",
          "data": {
            "text/plain": [
              "<Figure size 640x480 with 6 Axes>"
            ],
            "image/png": "[encoded data removed]"
          },
          "metadata": {}
        }
      ],
      "source": [
        "x=np.linspace(-2*np.pi,2*np.pi,100)\n",
        "y=np.sin(x)\n",
        "plt.subplot(2,3,1) # Here 2 is row, 3 is column and 1 is position\n",
        "plt.plot(x,y)\n",
        "\n",
        "x=np.array([0,1,2,3])\n",
        "y=np.array([10,20,30,40])\n",
        "plt.subplot(2,3,2)\n",
        "plt.plot(x,y)\n",
        "\n",
        "x=np.array([0,1,2,3])\n",
        "y=np.array([10,22,15,30])\n",
        "plt.subplot(2,3,3)\n",
        "plt.plot(x,y)\n",
        "\n",
        "x=np.array([0,1,2,3])\n",
        "y=np.array([7,25,30,10])\n",
        "plt.subplot(2,3,4)\n",
        "plt.plot(x,y)\n",
        "\n",
        "x=np.array([0,1,2,3])\n",
        "y=np.array([10,20,30,24])\n",
        "plt.subplot(2,3,5)\n",
        "plt.plot(x,y)\n",
        "\n",
        "x=np.array([0,1,2,3])\n",
        "y=np.array([40,30,20,10])\n",
        "plt.subplot(2,3,6)\n",
        "plt.plot(x,y)\n",
        "\n",
        "plt.show()"
      ]
    },
    {
      "cell_type": "markdown",
      "metadata": {
        "id": "EZAtOScsLwBN"
      },
      "source": [
        "# WEEK-11"
      ]
    },
    {
      "cell_type": "markdown",
      "metadata": {
        "id": "8LTi3DwiMH2M"
      },
      "source": [
        "Exception Handling"
      ]
    },
    {
      "cell_type": "code",
      "execution_count": null,
      "metadata": {
        "id": "McI0oK1qLzPT",
        "colab": {
          "base_uri": "https://localhost:8080/"
        },
        "outputId": "7cabded4-63ed-4d46-bc6f-2a2151548fd8"
      },
      "outputs": [
        {
          "output_type": "stream",
          "name": "stdout",
          "text": [
            "4\n",
            "0\n",
            "Invalid input, divisor can not be zero\n",
            "from finally block\n"
          ]
        }
      ],
      "source": [
        "a=int(input())\n",
        "b=int(input())\n",
        "try:      # Try to execute this,if not execute except\n",
        "  c=a/b\n",
        "  print(c)\n",
        "  f=open('abc.txt','w')\n",
        "except (ZeroDivisionError):\n",
        "  # it throws an statement inspite of throwing that error\n",
        "  print('Invalid input, divisor can not be zero')\n",
        "except (NameError):\n",
        "  print(\"Variable not defined\")\n",
        "except FileNotFoundError:\n",
        "  print(\"Invalid file name,Please check again\")\n",
        "  f.close()\n",
        "except:\n",
        "  # If any error happens other than mentioned error,\n",
        "  # then it prints Something went wrong\n",
        "  print(\"Something went wrong\")\n",
        "finally:\n",
        "  # Irrespective except function execution\n",
        "  # It always executes\n",
        "  print(\"from finally block\")"
      ]
    },
    {
      "cell_type": "code",
      "execution_count": null,
      "metadata": {
        "id": "B2fabQW05W6-"
      },
      "outputs": [],
      "source": [
        "# User Defined exception\n",
        "\n",
        "a=int(input(\"Enter your age: \"))\n",
        "if a<18:\n",
        "  # We manually throwed an error by using (raise Exception)\n",
        "  raise Exception('You are underage, can not vote')"
      ]
    },
    {
      "cell_type": "markdown",
      "metadata": {
        "id": "eZ4hXrX76u6u"
      },
      "source": [
        "Functional Programming - 1"
      ]
    },
    {
      "cell_type": "code",
      "execution_count": null,
      "metadata": {
        "id": "zkqKDuNv6yaA",
        "colab": {
          "base_uri": "https://localhost:8080/"
        },
        "outputId": "97247c21-ac1c-497d-babe-183f7c8f45b6"
      },
      "outputs": [
        {
          "output_type": "stream",
          "name": "stdout",
          "text": [
            "mango\n",
            "apple\n",
            "guava\n",
            "banana\n",
            "orange\n",
            "pineapple\n",
            "kiwi\n"
          ]
        }
      ],
      "source": [
        "fruits=['mango','apple','guava','banana','orange','pineapple','kiwi']\n",
        "\n",
        "basket=iter(fruits) # list is converted into list iterator\n",
        "# any iterable entity is converted into an iterator\n",
        "\n",
        "print(next(basket))\n",
        "# print(next()) function prints the first output\n",
        "# instead of printing all the output\n",
        "\n",
        "print(next(basket))\n",
        "print(next(basket))\n",
        "print(next(basket))\n",
        "print(next(basket))\n",
        "print(next(basket))\n",
        "print(next(basket))"
      ]
    },
    {
      "cell_type": "code",
      "execution_count": null,
      "metadata": {
        "id": "CdIcRoG3eQUj",
        "colab": {
          "base_uri": "https://localhost:8080/"
        },
        "outputId": "086b7bf9-8a2b-450c-fe53-e4436d14ae1b"
      },
      "outputs": [
        {
          "output_type": "stream",
          "name": "stdout",
          "text": [
            "0 0\n",
            "1 1\n",
            "4 8\n",
            "9 27\n",
            "16 64\n",
            "something went wrong\n"
          ]
        }
      ],
      "source": [
        "def square(limit):\n",
        "  x=0\n",
        "  while x<limit:\n",
        "    yield x*x\n",
        "    yield x*x*x\n",
        "    x+=1\n",
        "try:\n",
        " a=square(5)\n",
        " print(next(a),next(a))\n",
        " print(next(a),next(a))\n",
        " print(next(a),next(a))\n",
        " print(next(a),next(a))\n",
        " print(next(a),next(a))\n",
        " print(next(a),next(a))\n",
        "except:\n",
        "  print(\"something went wrong\")"
      ]
    },
    {
      "cell_type": "markdown",
      "metadata": {
        "id": "xV3B905-fk-t"
      },
      "source": [
        "Functional Programming - 2"
      ]
    },
    {
      "cell_type": "code",
      "execution_count": null,
      "metadata": {
        "id": "OqRSUI-SfuZe"
      },
      "outputs": [],
      "source": [
        "a=100\n",
        "b=20\n",
        "'''\n",
        "if a<b:\n",
        "  small=a\n",
        "else:\n",
        "  small b\n",
        "'''\n",
        "small = a if a<b else b\n",
        "# assigning variable a to small if a<b\n",
        "# else assigns variable b to small\n",
        "print(small)"
      ]
    },
    {
      "cell_type": "code",
      "execution_count": null,
      "metadata": {
        "id": "FYnagNuSgw5E"
      },
      "outputs": [],
      "source": [
        "a=5\n",
        "'''\n",
        "while a>0:\n",
        "  print(a)\n",
        "  a-=1\n",
        "'''\n",
        "\n",
        "while a>0: print(a); a-=1\n",
        "b=5\n",
        "for i in range(b): print(i)"
      ]
    },
    {
      "cell_type": "code",
      "execution_count": null,
      "metadata": {
        "id": "Ia0rllHRhOmk"
      },
      "outputs": [],
      "source": [
        "fruits=['mango','apple','guava','banana','orange','pineapple','kiwi']\n",
        "'''\n",
        "newlist=[]\n",
        "for fruit in fruits:\n",
        "  if 'n' in fruit: # checks for letter n in each fruit\n",
        "    newlist.append(fruit.capitalize())\n",
        "print(newlist)\n",
        "'''\n",
        "\n",
        "newlist=[fruit.capitalize() for fruit in fruits if 'n' in fruit]\n",
        "print(newlist)"
      ]
    },
    {
      "cell_type": "markdown",
      "metadata": {
        "id": "MTFWZ0Jji_y7"
      },
      "source": [
        "Functional Programming - 3"
      ]
    },
    {
      "cell_type": "code",
      "execution_count": null,
      "metadata": {
        "id": "5LXz0sf0jHjF",
        "colab": {
          "base_uri": "https://localhost:8080/"
        },
        "outputId": "499edd65-1d35-4e1f-9a89-30162091dafb"
      },
      "outputs": [
        {
          "output_type": "stream",
          "name": "stdout",
          "text": [
            "4\n",
            "<class 'function'>\n"
          ]
        }
      ],
      "source": [
        "# lambda function\n",
        "'''\n",
        "def add(x,y):\n",
        "  return(x+y)\n",
        "def sub(x,y):\n",
        "  return(x-y)\n",
        "def mul(x,y):\n",
        "  return(x*y)\n",
        "def div(x,y):\n",
        "  return(x/y)\n",
        "'''\n",
        "\n",
        "add=lambda x,y: x+y\n",
        "sub=lambda x,y: x-y\n",
        "mul=lambda x,y: x*y\n",
        "div=lambda x,y: x/y\n",
        "\n",
        "print(add(23,12))\n",
        "print(type(add))"
      ]
    },
    {
      "cell_type": "code",
      "execution_count": null,
      "metadata": {
        "id": "MTvGl5GTkWMl"
      },
      "outputs": [],
      "source": [
        "# enumerate function\n",
        "fruits=['mango','apple','guava','banana','orange','pineapple','kiwi']\n",
        "'''\n",
        "for i in range(len(fruits)):\n",
        "  print(i,fruits[i])\n",
        "'''\n",
        "\n",
        "for fruit in enumerate(fruits):\n",
        "  # enumerate gives tuple with index and variable\n",
        "  print(fruit)"
      ]
    },
    {
      "cell_type": "code",
      "execution_count": null,
      "metadata": {
        "id": "6wjwW29Ll8Wc"
      },
      "outputs": [],
      "source": [
        "# zip function\n",
        "# It also works with unequal list\n",
        "fruits=['mango','apple','guava','banana','orange','pineapple','kiwi']\n",
        "size=[5,5,6,9,10,5,4,2,3]\n",
        "\n",
        "print(list(zip(size,fruits)))\n",
        "# zip function maps to respective position\n",
        "print(dict(zip(fruits,size)))\n",
        "print(tuple(zip(fruits,size)))"
      ]
    },
    {
      "cell_type": "code",
      "execution_count": null,
      "metadata": {
        "colab": {
          "base_uri": "https://localhost:8080/"
        },
        "id": "pqB9EbHYm_tE",
        "outputId": "9fdb4d43-4f38-43b5-c946-4a5e14345405"
      },
      "outputs": [
        {
          "output_type": "stream",
          "name": "stdout",
          "text": [
            "[8, 6, 4, 2, 0, -2, -4]\n",
            "[2, 3, 4, 5, 6, 7, 8]\n"
          ]
        }
      ],
      "source": [
        "a=[1,2,3,4,5,6,7]\n",
        "b=[9,8,7,6,5,4,3]\n",
        "\n",
        "def sub(x,y):\n",
        "  return x-y\n",
        "\n",
        "def incre(x):\n",
        "  return x+1\n",
        "\n",
        "c=map(sub,b,a)\n",
        "# map function takes one function along with one or more arguments\n",
        "# it maps a & b for every element in list\n",
        "# executes the function sub for every map\n",
        "print(list(c))\n",
        "# It also works with unequal list\n",
        "d=map(incre,a)\n",
        "print(list(d))"
      ]
    },
    {
      "cell_type": "code",
      "execution_count": null,
      "metadata": {
        "id": "0EOuoppQpayL"
      },
      "outputs": [],
      "source": [
        "# filter fuction\n",
        "import math\n",
        "l=[1,36,-25,16,-9,-4]\n",
        "\n",
        "def square_root(n):\n",
        "  return math.sqrt(n)\n",
        "\n",
        "def ispositive(x):\n",
        "  if x>=0:\n",
        "    return x\n",
        "\n",
        "c=map(square_root,filter(ispositive,l))\n",
        "# filter function takes one function and one or more arguments\n",
        "# 1st filter function creates a list like [1,36,16] by ignoring -ve value\n",
        "# Then goes to map function\n",
        "print(list(c))"
      ]
    },
    {
      "cell_type": "markdown",
      "metadata": {
        "id": "PfS75TrIoTw0"
      },
      "source": [
        "# Functional programming (PA)\n"
      ]
    },
    {
      "cell_type": "code",
      "execution_count": null,
      "metadata": {
        "id": "LGkzAYJc0R7e"
      },
      "outputs": [],
      "source": [
        "n=int(input())\n",
        "if n%5==0 : print(True)\n",
        "else : print(False)\n",
        "#print(True if n%5==0 else False)"
      ]
    },
    {
      "cell_type": "code",
      "execution_count": null,
      "metadata": {
        "colab": {
          "base_uri": "https://localhost:8080/"
        },
        "id": "bSaS_7S-01AC",
        "outputId": "72ab712a-d3ea-4f00-df0a-6ca97d1d1eae"
      },
      "outputs": [
        {
          "output_type": "stream",
          "name": "stdout",
          "text": [
            "[1, 2, 3, 4, 5, 6, 7, 8, 9, 10]\n",
            "[2, 4, 6, 8, 10]\n",
            "[0, 2, 0, 4, 0, 6, 0, 8, 0, 10]\n"
          ]
        }
      ],
      "source": [
        "#L=[x for x in range(1,11)]\n",
        "#print(L)\n",
        "print([x for x in range(1,11)])\n",
        "\n",
        "L=[x for x in range(1,11) if x%2==0]\n",
        "print(L)\n",
        "\n",
        "L=[x if x%2==0 else 0 for x in range(1,11)]\n",
        "print(L)"
      ]
    },
    {
      "cell_type": "code",
      "execution_count": null,
      "metadata": {
        "colab": {
          "base_uri": "https://localhost:8080/"
        },
        "id": "181Mq0zk13JA",
        "outputId": "b01ffe3e-7f2d-41c6-c3bf-3143894f7a3a"
      },
      "outputs": [
        {
          "output_type": "stream",
          "name": "stdout",
          "text": [
            "[(0, 10), (1, 9), (2, 8), (3, 7), (4, 6), (5, 5), (6, 4), (7, 3), (8, 2), (9, 1), (10, 0)]\n",
            "[-1, -1, -1, -1, -1, -1, -1, -1, -1, -1, (0, 10), -1, -1, -1, -1, -1, -1, -1, -1, -1, (1, 9), -1, -1, -1, -1, -1, -1, -1, -1, -1, (2, 8), -1, -1, -1, -1, -1, -1, -1, -1, -1, (3, 7), -1, -1, -1, -1, -1, -1, -1, -1, -1, (4, 6), -1, -1, -1, -1, -1, -1, -1, -1, -1, (5, 5), -1, -1, -1, -1, -1, -1, -1, -1, -1, (6, 4), -1, -1, -1, -1, -1, -1, -1, -1, -1, (7, 3), -1, -1, -1, -1, -1, -1, -1, -1, -1, (8, 2), -1, -1, -1, -1, -1, -1, -1, -1, -1, (9, 1), -1, -1, -1, -1, -1, -1, -1, -1, -1, (10, 0), -1, -1, -1, -1, -1, -1, -1, -1, -1, -1]\n",
            "[(0, 10), (1, 9), (2, 8), (3, 7), (4, 6), (5, 5)]\n"
          ]
        }
      ],
      "source": [
        "L=[(x,y) for x in range(11) for y in range(11) if x+y==10]\n",
        "print(L)\n",
        "\n",
        "L=[(x,y) if x+y==10 else -1 for x in range(11) for y in range(11)]\n",
        "print(L)\n",
        "\n",
        "L=[(x,y) for x in range(11) for y in range(11) if x+y==10 and x<=y]\n",
        "print(L)"
      ]
    },
    {
      "cell_type": "code",
      "execution_count": null,
      "metadata": {
        "id": "dZ7ExmpF2w2s"
      },
      "outputs": [],
      "source": [
        "M=[[0 for j in range(3)] for i in range(3)]\n",
        "print(M)\n",
        "\n",
        "n=int(input())\n",
        "M=[ [ 1 if i==j else 0 for j in range(n) ] for i in range(n) ]\n",
        "print(M)"
      ]
    },
    {
      "cell_type": "code",
      "source": [
        "# Matrix addition\n",
        "\n",
        "m = int(input())\n",
        "A = [ list(map(int, input().split(','))) for i in range(m)]\n",
        "print(A)\n",
        "n = int(input())\n",
        "B = [ list(map(int, input().split(','))) for i in range(n)]\n",
        "print(B)\n",
        "Z = [ [A[i][j]+B[i][j] for j in range(len(A[0]))] for i in range(len(A))]\n",
        "print(Z)"
      ],
      "metadata": {
        "id": "AYUeFdrhO3J3"
      },
      "execution_count": null,
      "outputs": []
    },
    {
      "cell_type": "code",
      "source": [
        "# Matrix multiplication\n",
        "\n",
        "m = int(input())\n",
        "A = [ list(map(int, input().split(','))) for i in range(m)]\n",
        "# print(A)\n",
        "n = int(input())\n",
        "B = [ list(map(int, input().split(','))) for i in range(n)]\n",
        "# print(B)\n",
        "# C = [[0 for j in range(len(B[0]))] for i in range(len(A))]\n",
        "\n",
        "C = [ [ sum( A[i][k] * B[k][j] for k in range(len(A[0])) ) for j in range(len(B[0])) ]  for i in range(len(A)) ]\n",
        "print(C)"
      ],
      "metadata": {
        "id": "U-jPutnA1TpA"
      },
      "execution_count": null,
      "outputs": []
    },
    {
      "cell_type": "code",
      "source": [
        "n = int(input())\n",
        "A = [ [ int(num) for num in input().split(',') ] for i in range(n) ]\n",
        "print(A)"
      ],
      "metadata": {
        "id": "lA5bVMQoQ0RM"
      },
      "execution_count": null,
      "outputs": []
    },
    {
      "cell_type": "code",
      "execution_count": null,
      "metadata": {
        "id": "lhTiyvKG3qni"
      },
      "outputs": [],
      "source": [
        "L = ['one', 'two', 'one', 'three', 'one']\n",
        "freq = {word:len(word) for word in L}\n",
        "print(freq)\n",
        "\n",
        "D = { word: L.count(word) for word in L}\n",
        "print(D)\n",
        "\n",
        "P = {'one': 1, 'two': 2, 'three': 3, 'four': 4, 'five': 5}\n",
        "P_r = {P[key]:key for key in P}\n",
        "print(P_r)"
      ]
    },
    {
      "cell_type": "code",
      "execution_count": null,
      "metadata": {
        "id": "FzR8IiRM4YJ_"
      },
      "outputs": [],
      "source": [
        "def is_prime(x):\n",
        "  if x<=1 : return False\n",
        "  prime=True\n",
        "  for i in range(2,x):\n",
        "    if x%i==0: prime=False;break\n",
        "  if prime : return True\n",
        "\n",
        "P={x: is_prime(x) for x in range(2, 21)}\n",
        "pprint(P)"
      ]
    },
    {
      "cell_type": "code",
      "execution_count": null,
      "metadata": {
        "id": "TfRWYJyUQYkj",
        "colab": {
          "base_uri": "https://localhost:8080/"
        },
        "outputId": "65cf4efd-041a-40ae-d39f-1e0042c7320a"
      },
      "outputs": [
        {
          "output_type": "stream",
          "name": "stdout",
          "text": [
            "0\n",
            "1\n",
            "1\n",
            "2\n",
            "3\n"
          ]
        }
      ],
      "source": [
        "import time\n",
        "def fib(n):\n",
        "  a,b=0,1\n",
        "  for i in range(n):\n",
        "    yield a\n",
        "    a,b=b,a+b\n",
        "\n",
        "for i in fib(5): # Iteratable through function because of yield function\n",
        "  print(i)"
      ]
    },
    {
      "cell_type": "markdown",
      "source": [
        "# Rough work"
      ],
      "metadata": {
        "id": "a4kG7JP_bbER"
      }
    },
    {
      "cell_type": "code",
      "source": [
        "l=[int(x) for x in input().split(',')]\n",
        "print(l)\n",
        "l.sort()\n",
        "print(l)"
      ],
      "metadata": {
        "id": "iZfZttEjbdi5"
      },
      "execution_count": null,
      "outputs": []
    },
    {
      "cell_type": "code",
      "execution_count": null,
      "metadata": {
        "id": "FgkQT4Ngn6Sv"
      },
      "outputs": [],
      "source": [
        "l=input().split(' ')\n",
        "# l=list(eval(input())\n",
        "n=l[0]\n",
        "print(int(float(n)))\n",
        "\n",
        "L=['1','2','3']\n",
        "print(','.join(L))"
      ]
    },
    {
      "cell_type": "code",
      "source": [
        "import numpy as np\n",
        "import matplotlib.pyplot as plt\n",
        "\n",
        "x=np.array(['A','B','C','D'])\n",
        "y=np.array([12,7,15,9])\n",
        "plt.bar(x,y)\n",
        "plt.savefig('a.png')\n",
        "plt.show()\n",
        "plt.close()\n",
        "\n",
        "y=np.array([35,25,25,15])\n",
        "mylabels=['Apples','Bananas','Cherries','Dates']\n",
        "\n",
        "plt.pie(y,labels=mylabels,startangle=90)\n",
        "plt.legend()\n",
        "plt.savefig('b.png')\n",
        "plt.show()\n",
        "plt.close()"
      ],
      "metadata": {
        "id": "6Rz9vcb_OQ-I"
      },
      "execution_count": null,
      "outputs": []
    },
    {
      "cell_type": "code",
      "source": [
        "import datetime\n",
        "\n",
        "today = datetime.date.today()\n",
        "\n",
        "after = datetime.timedelta(days=30, seconds=0, microseconds=0, milliseconds=0, minutes=0, hours=0, weeks=0)\n",
        "\n",
        "print(today, after)"
      ],
      "metadata": {
        "id": "R4rTkCD9kRUZ"
      },
      "execution_count": null,
      "outputs": []
    },
    {
      "cell_type": "code",
      "source": [],
      "metadata": {
        "id": "VKaV9TXnpVN9"
      },
      "execution_count": null,
      "outputs": []
    }
  ],
  "metadata": {
    "colab": {
      "collapsed_sections": [
        "xi0EBHfVmeDt",
        "Td5I5klOonW3",
        "HW179Q2mdCIg",
        "jAfxt_nE2JI6",
        "_4FyrJjw4XVR",
        "r-bz3eTNS_9x",
        "uNEbdifRzYOe",
        "BktSjiPKjKlL",
        "2UVduHf4Z4gK",
        "EZAtOScsLwBN",
        "PfS75TrIoTw0",
        "a4kG7JP_bbER"
      ],
      "provenance": []
    },
    "kernelspec": {
      "display_name": "Python 3",
      "language": "python",
      "name": "python3"
    },
    "language_info": {
      "codemirror_mode": {
        "name": "ipython",
        "version": 3
      },
      "file_extension": ".py",
      "mimetype": "text/x-python",
      "name": "python",
      "nbconvert_exporter": "python",
      "pygments_lexer": "ipython3",
      "version": "3.10.9"
    },
    "vscode": {
      "interpreter": {
        "hash": "495dc0be27a81417df1f689259445ddfa831f8e99e5a616c827c985ced18c266"
      }
    }
  },
  "nbformat": 4,
  "nbformat_minor": 0
}